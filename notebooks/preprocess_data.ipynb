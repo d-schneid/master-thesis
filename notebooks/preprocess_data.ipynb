{
 "cells": [
  {
   "cell_type": "code",
   "id": "b03b0bf0-79a4-4a81-96bb-7b4b8650822c",
   "metadata": {
    "ExecuteTime": {
     "end_time": "2025-03-12T23:19:44.394665Z",
     "start_time": "2025-03-12T23:19:42.947149Z"
    }
   },
   "source": [
    "from preprocessing import Parser\n",
    "from preprocessing import DataHandler"
   ],
   "outputs": [
    {
     "name": "stderr",
     "output_type": "stream",
     "text": [
      "/Users/i741961/Documents/SAP/Masterthesis/Code/master-thesis/venv/lib/python3.11/site-packages/tqdm/auto.py:21: TqdmWarning: IProgress not found. Please update jupyter and ipywidgets. See https://ipywidgets.readthedocs.io/en/stable/user_install.html\n",
      "  from .autonotebook import tqdm as notebook_tqdm\n",
      "None of PyTorch, TensorFlow >= 2.0, or Flax have been found. Models won't be available and only tokenizers, configuration and file/data utilities can be used.\n"
     ]
    }
   ],
   "execution_count": 1
  },
  {
   "cell_type": "code",
   "id": "c913ac88-0632-48e9-a8d1-7fe3073c4dec",
   "metadata": {
    "ExecuteTime": {
     "end_time": "2025-03-12T23:19:46.563629Z",
     "start_time": "2025-03-12T23:19:46.561123Z"
    }
   },
   "source": [
    "data_handler = DataHandler()"
   ],
   "outputs": [],
   "execution_count": 2
  },
  {
   "cell_type": "code",
   "id": "d72169d9-17a8-463f-b624-9524fe10d02b",
   "metadata": {
    "ExecuteTime": {
     "end_time": "2025-03-12T23:19:51.167026Z",
     "start_time": "2025-03-12T23:19:48.068452Z"
    }
   },
   "source": [
    "data = data_handler.read_dataset(max_samples_per_split=500)"
   ],
   "outputs": [
    {
     "name": "stderr",
     "output_type": "stream",
     "text": [
      "Reading split=train: 100%|██████████| 500/500 [00:00<00:00, 723.91it/s]\n",
      "Reading split=test: 100%|██████████| 500/500 [00:00<00:00, 1620.01it/s]\n",
      "Reading split=validation: 100%|██████████| 500/500 [00:00<00:00, 1761.52it/s]\n"
     ]
    }
   ],
   "execution_count": 3
  },
  {
   "cell_type": "code",
   "id": "8c2c864e-26bd-4b7f-a9d3-e4249485fc9e",
   "metadata": {
    "ExecuteTime": {
     "end_time": "2025-03-12T23:19:53.034016Z",
     "start_time": "2025-03-12T23:19:53.026758Z"
    }
   },
   "source": [
    "#data = data.loc[[3]]\n",
    "#data = data.loc[[9]]\n",
    "#data = data.loc[[5]]\n",
    "data = data.loc[[836]]\n",
    "data"
   ],
   "outputs": [
    {
     "data": {
      "text/plain": [
       "                                                  text  \\\n",
       "836  :param DatasetLocal dataset: dataset to export...   \n",
       "\n",
       "                                                  code  \n",
       "836  def export_fits(dataset, path, column_names=No...  "
      ],
      "text/html": [
       "<div>\n",
       "<style scoped>\n",
       "    .dataframe tbody tr th:only-of-type {\n",
       "        vertical-align: middle;\n",
       "    }\n",
       "\n",
       "    .dataframe tbody tr th {\n",
       "        vertical-align: top;\n",
       "    }\n",
       "\n",
       "    .dataframe thead th {\n",
       "        text-align: right;\n",
       "    }\n",
       "</style>\n",
       "<table border=\"1\" class=\"dataframe\">\n",
       "  <thead>\n",
       "    <tr style=\"text-align: right;\">\n",
       "      <th></th>\n",
       "      <th>text</th>\n",
       "      <th>code</th>\n",
       "    </tr>\n",
       "  </thead>\n",
       "  <tbody>\n",
       "    <tr>\n",
       "      <th>836</th>\n",
       "      <td>:param DatasetLocal dataset: dataset to export...</td>\n",
       "      <td>def export_fits(dataset, path, column_names=No...</td>\n",
       "    </tr>\n",
       "  </tbody>\n",
       "</table>\n",
       "</div>"
      ]
     },
     "execution_count": 4,
     "metadata": {},
     "output_type": "execute_result"
    }
   ],
   "execution_count": 4
  },
  {
   "cell_type": "code",
   "id": "8fdb86d1-2b6f-426b-a2f3-a21b26b2baea",
   "metadata": {
    "ExecuteTime": {
     "end_time": "2025-03-12T23:19:55.143703Z",
     "start_time": "2025-03-12T23:19:54.936743Z"
    }
   },
   "source": [
    "data = data_handler.preprocess(data)\n",
    "data"
   ],
   "outputs": [
    {
     "name": "stderr",
     "output_type": "stream",
     "text": [
      "1it [00:00, 390.93it/s]\n"
     ]
    },
    {
     "data": {
      "text/plain": [
       "                                                text  \\\n",
       "0  :param DatasetLocal dataset: dataset to export...   \n",
       "\n",
       "                                                code  \n",
       "0  def export_fits(dataset, path, column_names=No...  "
      ],
      "text/html": [
       "<div>\n",
       "<style scoped>\n",
       "    .dataframe tbody tr th:only-of-type {\n",
       "        vertical-align: middle;\n",
       "    }\n",
       "\n",
       "    .dataframe tbody tr th {\n",
       "        vertical-align: top;\n",
       "    }\n",
       "\n",
       "    .dataframe thead th {\n",
       "        text-align: right;\n",
       "    }\n",
       "</style>\n",
       "<table border=\"1\" class=\"dataframe\">\n",
       "  <thead>\n",
       "    <tr style=\"text-align: right;\">\n",
       "      <th></th>\n",
       "      <th>text</th>\n",
       "      <th>code</th>\n",
       "    </tr>\n",
       "  </thead>\n",
       "  <tbody>\n",
       "    <tr>\n",
       "      <th>0</th>\n",
       "      <td>:param DatasetLocal dataset: dataset to export...</td>\n",
       "      <td>def export_fits(dataset, path, column_names=No...</td>\n",
       "    </tr>\n",
       "  </tbody>\n",
       "</table>\n",
       "</div>"
      ]
     },
     "execution_count": 5,
     "metadata": {},
     "output_type": "execute_result"
    }
   ],
   "execution_count": 5
  },
  {
   "cell_type": "code",
   "id": "15eb30ba-7f1a-43c4-82b1-9933a727e10d",
   "metadata": {
    "ExecuteTime": {
     "end_time": "2025-03-12T23:19:57.178994Z",
     "start_time": "2025-03-12T23:19:57.176410Z"
    }
   },
   "source": [
    "data.loc[0].code"
   ],
   "outputs": [
    {
     "data": {
      "text/plain": [
       "'def export_fits(dataset, path, column_names=None, shuffle=False, selection=False, progress=None, virtual=True, sort=None, ascending=True):\\n    if shuffle:\\n        random_index_name = \"random_index\"\\n        while random_index_name in dataset.get_column_names():\\n            random_index_name += \"_new\"\\n    column_names = column_names or dataset.get_column_names(virtual=virtual, strings=True)\\n    logger.debug(\"exporting columns(fits): %r\" % column_names)\\n    N = len(dataset) if not selection else dataset.selected_length(selection)\\n    data_types = []\\n    data_shapes = []\\n    ucds = []\\n    units = []\\n    for column_name in column_names:\\n        if column_name in dataset.get_column_names(strings=True):\\n            column = dataset.columns[column_name]\\n            shape = (N,) + column.shape[1:]\\n            dtype = column.dtype\\n            if dataset.dtype(column_name) == str_type:\\n                max_length = dataset[column_name].apply(lambda x: len(x)).max(selection=selection)\\n                dtype = np.dtype(\\'S\\'+str(int(max_length)))\\n        else:\\n            dtype = np.float64().dtype\\n            shape = (N,)\\n        ucds.append(dataset.ucds.get(column_name))\\n        units.append(dataset.units.get(column_name))\\n        data_types.append(dtype)\\n        data_shapes.append(shape)\\n    if shuffle:\\n        column_names.append(random_index_name)\\n        data_types.append(np.int64().dtype)\\n        data_shapes.append((N,))\\n        ucds.append(None)\\n        units.append(None)\\n    else:\\n        random_index_name = None\\n    null_values = {key: dataset.columns[key].fill_value for key in dataset.get_column_names() if dataset.is_masked(key) and dataset.dtype(key).kind != \"f\"}\\n    vaex.file.colfits.empty(path, N, column_names, data_types, data_shapes, ucds, units, null_values=null_values)\\n    if shuffle:\\n        del column_names[-1]\\n        del data_types[-1]\\n        del data_shapes[-1]\\n    dataset_output = vaex.file.other.FitsBinTable(path, write=True)\\n    _export(dataset_input=dataset, dataset_output=dataset_output, path=path, random_index_column=random_index_name,\\n            column_names=column_names, selection=selection, shuffle=shuffle,\\n            progress=progress, sort=sort, ascending=ascending)\\n    dataset_output.close_files()'"
      ]
     },
     "execution_count": 6,
     "metadata": {},
     "output_type": "execute_result"
    }
   ],
   "execution_count": 6
  },
  {
   "cell_type": "code",
   "execution_count": 13,
   "id": "c63227853e9fa244",
   "metadata": {
    "ExecuteTime": {
     "end_time": "2025-03-11T21:13:42.855570Z",
     "start_time": "2025-03-11T21:13:42.853020Z"
    }
   },
   "outputs": [],
   "source": [
    "new_function = \"\"\"def add(a, b):\n",
    "\t    result = a + b\n",
    "\t    return result\"\"\""
   ]
  },
  {
   "metadata": {},
   "cell_type": "code",
   "outputs": [],
   "execution_count": null,
   "source": [
    "#data.loc[0].code = new_function\n",
    "#data.loc[0].code"
   ],
   "id": "4907579427157203"
  },
  {
   "metadata": {
    "ExecuteTime": {
     "end_time": "2025-03-12T23:21:26.339892Z",
     "start_time": "2025-03-12T23:20:02.191666Z"
    }
   },
   "cell_type": "code",
   "source": [
    "parser = Parser()\n",
    "parser.add_structure(data)\n",
    "data"
   ],
   "id": "bda08b43c9ad3fce",
   "outputs": [
    {
     "name": "stderr",
     "output_type": "stream",
     "text": [
      "0it [01:23, ?it/s]\n"
     ]
    },
    {
     "ename": "KeyboardInterrupt",
     "evalue": "",
     "output_type": "error",
     "traceback": [
      "\u001B[31m---------------------------------------------------------------------------\u001B[39m",
      "\u001B[31mKeyboardInterrupt\u001B[39m                         Traceback (most recent call last)",
      "\u001B[36mCell\u001B[39m\u001B[36m \u001B[39m\u001B[32mIn[7]\u001B[39m\u001B[32m, line 2\u001B[39m\n\u001B[32m      1\u001B[39m parser = Parser()\n\u001B[32m----> \u001B[39m\u001B[32m2\u001B[39m \u001B[43mparser\u001B[49m\u001B[43m.\u001B[49m\u001B[43madd_structure\u001B[49m\u001B[43m(\u001B[49m\u001B[43mdata\u001B[49m\u001B[43m)\u001B[49m\n\u001B[32m      3\u001B[39m data\n",
      "\u001B[36mFile \u001B[39m\u001B[32m~/Documents/SAP/Masterthesis/Code/master-thesis/preprocessing/parser.py:80\u001B[39m, in \u001B[36mParser.add_structure\u001B[39m\u001B[34m(self, data)\u001B[39m\n\u001B[32m     78\u001B[39m ast_leaf_tokens, ast_leaves, ast_leaf_ranges, dfg_edges = [], [], [], []\n\u001B[32m     79\u001B[39m \u001B[38;5;28;01mfor\u001B[39;00m row \u001B[38;5;129;01min\u001B[39;00m tqdm(data.itertuples()):\n\u001B[32m---> \u001B[39m\u001B[32m80\u001B[39m \tcurr_code_tokens, curr_ast_leaves, curr_dfg_edges = \u001B[38;5;28;43mself\u001B[39;49m\u001B[43m.\u001B[49m\u001B[43mextract_structure\u001B[49m\u001B[43m(\u001B[49m\u001B[43mrow\u001B[49m\u001B[43m.\u001B[49m\u001B[43mcode\u001B[49m\u001B[43m)\u001B[49m\n\u001B[32m     81\u001B[39m \tast_leaf_tokens.append(curr_code_tokens)\n\u001B[32m     82\u001B[39m \tast_leaves.append(curr_ast_leaves)\n",
      "\u001B[36mFile \u001B[39m\u001B[32m~/Documents/SAP/Masterthesis/Code/master-thesis/preprocessing/parser.py:47\u001B[39m, in \u001B[36mParser.extract_structure\u001B[39m\u001B[34m(self, code)\u001B[39m\n\u001B[32m     44\u001B[39m ast_token_nodes = \u001B[38;5;28mself\u001B[39m.tree_to_token_nodes(tree.root_node)  \u001B[38;5;66;03m# leave nodes\u001B[39;00m\n\u001B[32m     46\u001B[39m \u001B[38;5;66;03m# dfg\u001B[39;00m\n\u001B[32m---> \u001B[39m\u001B[32m47\u001B[39m ast_tokens_index = \u001B[43m[\u001B[49m\u001B[43m(\u001B[49m\u001B[43mnode\u001B[49m\u001B[43m.\u001B[49m\u001B[43mstart_point\u001B[49m\u001B[43m,\u001B[49m\u001B[43m \u001B[49m\u001B[43mnode\u001B[49m\u001B[43m.\u001B[49m\u001B[43mend_point\u001B[49m\u001B[43m)\u001B[49m\u001B[43m \u001B[49m\u001B[38;5;28;43;01mfor\u001B[39;49;00m\u001B[43m \u001B[49m\u001B[43mnode\u001B[49m\u001B[43m \u001B[49m\u001B[38;5;129;43;01min\u001B[39;49;00m\u001B[43m \u001B[49m\u001B[43mast_token_nodes\u001B[49m\u001B[43m]\u001B[49m\n\u001B[32m     48\u001B[39m code_rows = code.split(\u001B[33m'\u001B[39m\u001B[38;5;130;01m\\n\u001B[39;00m\u001B[33m'\u001B[39m)\n\u001B[32m     49\u001B[39m code_tokens = [\u001B[38;5;28mself\u001B[39m.ast_tok_index_to_code_token(x, code_rows) \u001B[38;5;28;01mfor\u001B[39;00m x \u001B[38;5;129;01min\u001B[39;00m ast_tokens_index]\n",
      "\u001B[36mFile \u001B[39m\u001B[32m~/Documents/SAP/Masterthesis/Code/master-thesis/preprocessing/parser.py:47\u001B[39m, in \u001B[36m<listcomp>\u001B[39m\u001B[34m(.0)\u001B[39m\n\u001B[32m     44\u001B[39m ast_token_nodes = \u001B[38;5;28mself\u001B[39m.tree_to_token_nodes(tree.root_node)  \u001B[38;5;66;03m# leave nodes\u001B[39;00m\n\u001B[32m     46\u001B[39m \u001B[38;5;66;03m# dfg\u001B[39;00m\n\u001B[32m---> \u001B[39m\u001B[32m47\u001B[39m ast_tokens_index = [(node.start_point, node.end_point) \u001B[38;5;28;01mfor\u001B[39;00m node \u001B[38;5;129;01min\u001B[39;00m ast_token_nodes]\n\u001B[32m     48\u001B[39m code_rows = code.split(\u001B[33m'\u001B[39m\u001B[38;5;130;01m\\n\u001B[39;00m\u001B[33m'\u001B[39m)\n\u001B[32m     49\u001B[39m code_tokens = [\u001B[38;5;28mself\u001B[39m.ast_tok_index_to_code_token(x, code_rows) \u001B[38;5;28;01mfor\u001B[39;00m x \u001B[38;5;129;01min\u001B[39;00m ast_tokens_index]\n",
      "\u001B[31mKeyboardInterrupt\u001B[39m: "
     ]
    }
   ],
   "execution_count": 7
  },
  {
   "cell_type": "code",
   "execution_count": 8,
   "id": "d5500956-9a71-4c4d-bb08-7395bd576186",
   "metadata": {},
   "outputs": [
    {
     "name": "stderr",
     "output_type": "stream",
     "text": [
      "100%|████████████████████████████████████████████████████████████████████████████████████████████████████████████████████████████████████████████| 1/1 [00:00<00:00, 366.03it/s]\n",
      "100%|███████████████████████████████████████████████████████████████████████████████████████████████████████████████████████████████████████████| 1/1 [00:00<00:00, 6288.31it/s]\n"
     ]
    },
    {
     "data": {
      "text/html": [
       "<div>\n",
       "<style scoped>\n",
       "    .dataframe tbody tr th:only-of-type {\n",
       "        vertical-align: middle;\n",
       "    }\n",
       "\n",
       "    .dataframe tbody tr th {\n",
       "        vertical-align: top;\n",
       "    }\n",
       "\n",
       "    .dataframe thead th {\n",
       "        text-align: right;\n",
       "    }\n",
       "</style>\n",
       "<table border=\"1\" class=\"dataframe\">\n",
       "  <thead>\n",
       "    <tr style=\"text-align: right;\">\n",
       "      <th></th>\n",
       "      <th>text</th>\n",
       "      <th>code</th>\n",
       "      <th>ast_leaves</th>\n",
       "      <th>dfg_edges</th>\n",
       "      <th>ast_leaf_tokens</th>\n",
       "      <th>ast_leaf_ranges</th>\n",
       "      <th>code_tokens</th>\n",
       "      <th>text_tokens</th>\n",
       "    </tr>\n",
       "  </thead>\n",
       "  <tbody>\n",
       "    <tr>\n",
       "      <th>0</th>\n",
       "      <td>Reset task execution to `DELAY` seconds from now.</td>\n",
       "      <td>def reset(self) -&gt; None:\\n        Log.debug('r...</td>\n",
       "      <td>[(\"def\"), (identifier), (\"(\"), (identifier), (...</td>\n",
       "      <td>[(14, [18, 20, 24, 26]), (16, [18, 20, 24, 26]...</td>\n",
       "      <td>[def, reset, (, self, ), -&gt;, None, :, Log, ., ...</td>\n",
       "      <td>[(0, 3), (4, 9), (9, 10), (10, 14), (14, 15), ...</td>\n",
       "      <td>[610, 5672, 45, 803, 46, 984, 1686, 63, 310, 2...</td>\n",
       "      <td>[7334, 2918, 6111, 391, 548, 21382, 101, 6810,...</td>\n",
       "    </tr>\n",
       "  </tbody>\n",
       "</table>\n",
       "</div>"
      ],
      "text/plain": [
       "                                                text  \\\n",
       "0  Reset task execution to `DELAY` seconds from now.   \n",
       "\n",
       "                                                code  \\\n",
       "0  def reset(self) -> None:\\n        Log.debug('r...   \n",
       "\n",
       "                                          ast_leaves  \\\n",
       "0  [(\"def\"), (identifier), (\"(\"), (identifier), (...   \n",
       "\n",
       "                                           dfg_edges  \\\n",
       "0  [(14, [18, 20, 24, 26]), (16, [18, 20, 24, 26]...   \n",
       "\n",
       "                                     ast_leaf_tokens  \\\n",
       "0  [def, reset, (, self, ), ->, None, :, Log, ., ...   \n",
       "\n",
       "                                     ast_leaf_ranges  \\\n",
       "0  [(0, 3), (4, 9), (9, 10), (10, 14), (14, 15), ...   \n",
       "\n",
       "                                         code_tokens  \\\n",
       "0  [610, 5672, 45, 803, 46, 984, 1686, 63, 310, 2...   \n",
       "\n",
       "                                         text_tokens  \n",
       "0  [7334, 2918, 6111, 391, 548, 21382, 101, 6810,...  "
      ]
     },
     "execution_count": 8,
     "metadata": {},
     "output_type": "execute_result"
    }
   ],
   "source": [
    "data['code_tokens'] = parser.tokenize_codes_texts(list(data['code']))\n",
    "data['text_tokens'] = parser.tokenize_codes_texts(list(data['text']))\n",
    "data"
   ]
  },
  {
   "cell_type": "code",
   "execution_count": 9,
   "id": "2f24964b-d81d-411f-ab75-39be2f17a72c",
   "metadata": {},
   "outputs": [
    {
     "name": "stderr",
     "output_type": "stream",
     "text": [
      "1it [00:00, 4788.02it/s]\n"
     ]
    },
    {
     "data": {
      "text/html": [
       "<div>\n",
       "<style scoped>\n",
       "    .dataframe tbody tr th:only-of-type {\n",
       "        vertical-align: middle;\n",
       "    }\n",
       "\n",
       "    .dataframe tbody tr th {\n",
       "        vertical-align: top;\n",
       "    }\n",
       "\n",
       "    .dataframe thead th {\n",
       "        text-align: right;\n",
       "    }\n",
       "</style>\n",
       "<table border=\"1\" class=\"dataframe\">\n",
       "  <thead>\n",
       "    <tr style=\"text-align: right;\">\n",
       "      <th></th>\n",
       "      <th>text</th>\n",
       "      <th>code</th>\n",
       "      <th>ast_leaves</th>\n",
       "      <th>dfg_edges</th>\n",
       "      <th>ast_leaf_tokens</th>\n",
       "      <th>ast_leaf_ranges</th>\n",
       "      <th>code_tokens</th>\n",
       "      <th>text_tokens</th>\n",
       "      <th>code_tokens_ranges</th>\n",
       "    </tr>\n",
       "  </thead>\n",
       "  <tbody>\n",
       "    <tr>\n",
       "      <th>0</th>\n",
       "      <td>Reset task execution to `DELAY` seconds from now.</td>\n",
       "      <td>def reset(self) -&gt; None:\\n        Log.debug('r...</td>\n",
       "      <td>[(\"def\"), (identifier), (\"(\"), (identifier), (...</td>\n",
       "      <td>[(14, [18, 20, 24, 26]), (16, [18, 20, 24, 26]...</td>\n",
       "      <td>[def, reset, (, self, ), -&gt;, None, :, Log, ., ...</td>\n",
       "      <td>[(0, 3), (4, 9), (9, 10), (10, 14), (14, 15), ...</td>\n",
       "      <td>[610, 5672, 45, 803, 46, 984, 1686, 63, 310, 2...</td>\n",
       "      <td>[7334, 2918, 6111, 391, 548, 21382, 101, 6810,...</td>\n",
       "      <td>[(0, 3), (3, 9), (9, 10), (10, 14), (14, 15), ...</td>\n",
       "    </tr>\n",
       "  </tbody>\n",
       "</table>\n",
       "</div>"
      ],
      "text/plain": [
       "                                                text  \\\n",
       "0  Reset task execution to `DELAY` seconds from now.   \n",
       "\n",
       "                                                code  \\\n",
       "0  def reset(self) -> None:\\n        Log.debug('r...   \n",
       "\n",
       "                                          ast_leaves  \\\n",
       "0  [(\"def\"), (identifier), (\"(\"), (identifier), (...   \n",
       "\n",
       "                                           dfg_edges  \\\n",
       "0  [(14, [18, 20, 24, 26]), (16, [18, 20, 24, 26]...   \n",
       "\n",
       "                                     ast_leaf_tokens  \\\n",
       "0  [def, reset, (, self, ), ->, None, :, Log, ., ...   \n",
       "\n",
       "                                     ast_leaf_ranges  \\\n",
       "0  [(0, 3), (4, 9), (9, 10), (10, 14), (14, 15), ...   \n",
       "\n",
       "                                         code_tokens  \\\n",
       "0  [610, 5672, 45, 803, 46, 984, 1686, 63, 310, 2...   \n",
       "\n",
       "                                         text_tokens  \\\n",
       "0  [7334, 2918, 6111, 391, 548, 21382, 101, 6810,...   \n",
       "\n",
       "                                  code_tokens_ranges  \n",
       "0  [(0, 3), (3, 9), (9, 10), (10, 14), (14, 15), ...  "
      ]
     },
     "execution_count": 9,
     "metadata": {},
     "output_type": "execute_result"
    }
   ],
   "source": [
    "parser.add_code_tokens_ranges(data)\n",
    "data"
   ]
  },
  {
   "cell_type": "code",
   "execution_count": 10,
   "id": "decc9c19-65d7-4b86-9b0c-d5a287f8fed9",
   "metadata": {},
   "outputs": [
    {
     "name": "stderr",
     "output_type": "stream",
     "text": [
      "1it [00:00, 17848.10it/s]\n"
     ]
    }
   ],
   "source": [
    "parser.map_ast_leaf_code_token_indices(data)"
   ]
  },
  {
   "cell_type": "code",
   "execution_count": 11,
   "id": "5e405b96-28d0-4b49-88cc-3a774d422934",
   "metadata": {},
   "outputs": [
    {
     "data": {
      "text/html": [
       "<div>\n",
       "<style scoped>\n",
       "    .dataframe tbody tr th:only-of-type {\n",
       "        vertical-align: middle;\n",
       "    }\n",
       "\n",
       "    .dataframe tbody tr th {\n",
       "        vertical-align: top;\n",
       "    }\n",
       "\n",
       "    .dataframe thead th {\n",
       "        text-align: right;\n",
       "    }\n",
       "</style>\n",
       "<table border=\"1\" class=\"dataframe\">\n",
       "  <thead>\n",
       "    <tr style=\"text-align: right;\">\n",
       "      <th></th>\n",
       "      <th>text</th>\n",
       "      <th>code</th>\n",
       "      <th>ast_leaves</th>\n",
       "      <th>dfg_edges</th>\n",
       "      <th>ast_leaf_tokens</th>\n",
       "      <th>ast_leaf_ranges</th>\n",
       "      <th>code_tokens</th>\n",
       "      <th>text_tokens</th>\n",
       "      <th>code_tokens_ranges</th>\n",
       "      <th>ast_leaf_code_token_idxs</th>\n",
       "    </tr>\n",
       "  </thead>\n",
       "  <tbody>\n",
       "    <tr>\n",
       "      <th>0</th>\n",
       "      <td>Reset task execution to `DELAY` seconds from now.</td>\n",
       "      <td>def reset(self) -&gt; None:\\n        Log.debug('r...</td>\n",
       "      <td>[(\"def\"), (identifier), (\"(\"), (identifier), (...</td>\n",
       "      <td>[(14, [18, 20, 24, 26]), (16, [18, 20, 24, 26]...</td>\n",
       "      <td>[def, reset, (, self, ), -&gt;, None, :, Log, ., ...</td>\n",
       "      <td>[(0, 3), (4, 9), (9, 10), (10, 14), (14, 15), ...</td>\n",
       "      <td>[610, 5672, 45, 803, 46, 984, 1686, 63, 310, 2...</td>\n",
       "      <td>[7334, 2918, 6111, 391, 548, 21382, 101, 6810,...</td>\n",
       "      <td>[(0, 3), (3, 9), (9, 10), (10, 14), (14, 15), ...</td>\n",
       "      <td>[[0], [1], [2], [3], [4], [5], [6], [7], [9], ...</td>\n",
       "    </tr>\n",
       "  </tbody>\n",
       "</table>\n",
       "</div>"
      ],
      "text/plain": [
       "                                                text  \\\n",
       "0  Reset task execution to `DELAY` seconds from now.   \n",
       "\n",
       "                                                code  \\\n",
       "0  def reset(self) -> None:\\n        Log.debug('r...   \n",
       "\n",
       "                                          ast_leaves  \\\n",
       "0  [(\"def\"), (identifier), (\"(\"), (identifier), (...   \n",
       "\n",
       "                                           dfg_edges  \\\n",
       "0  [(14, [18, 20, 24, 26]), (16, [18, 20, 24, 26]...   \n",
       "\n",
       "                                     ast_leaf_tokens  \\\n",
       "0  [def, reset, (, self, ), ->, None, :, Log, ., ...   \n",
       "\n",
       "                                     ast_leaf_ranges  \\\n",
       "0  [(0, 3), (4, 9), (9, 10), (10, 14), (14, 15), ...   \n",
       "\n",
       "                                         code_tokens  \\\n",
       "0  [610, 5672, 45, 803, 46, 984, 1686, 63, 310, 2...   \n",
       "\n",
       "                                         text_tokens  \\\n",
       "0  [7334, 2918, 6111, 391, 548, 21382, 101, 6810,...   \n",
       "\n",
       "                                  code_tokens_ranges  \\\n",
       "0  [(0, 3), (3, 9), (9, 10), (10, 14), (14, 15), ...   \n",
       "\n",
       "                            ast_leaf_code_token_idxs  \n",
       "0  [[0], [1], [2], [3], [4], [5], [6], [7], [9], ...  "
      ]
     },
     "execution_count": 11,
     "metadata": {},
     "output_type": "execute_result"
    }
   ],
   "source": [
    "data"
   ]
  },
  {
   "cell_type": "code",
   "execution_count": 12,
   "id": "61ce4ae2-d1be-4c47-8ff6-54b86480d202",
   "metadata": {},
   "outputs": [
    {
     "name": "stderr",
     "output_type": "stream",
     "text": [
      "100%|███████████████████████████████████████████████████████████████████████████████████████████████████████████████████████████████████████████| 1/1 [00:00<00:00, 5622.39it/s]\n",
      "100%|███████████████████████████████████████████████████████████████████████████████████████████████████████████████████████████████████████████| 1/1 [00:00<00:00, 9892.23it/s]\n"
     ]
    },
    {
     "data": {
      "text/html": [
       "<div>\n",
       "<style scoped>\n",
       "    .dataframe tbody tr th:only-of-type {\n",
       "        vertical-align: middle;\n",
       "    }\n",
       "\n",
       "    .dataframe tbody tr th {\n",
       "        vertical-align: top;\n",
       "    }\n",
       "\n",
       "    .dataframe thead th {\n",
       "        text-align: right;\n",
       "    }\n",
       "</style>\n",
       "<table border=\"1\" class=\"dataframe\">\n",
       "  <thead>\n",
       "    <tr style=\"text-align: right;\">\n",
       "      <th></th>\n",
       "      <th>text</th>\n",
       "      <th>code</th>\n",
       "      <th>ast_leaves</th>\n",
       "      <th>dfg_edges</th>\n",
       "      <th>code_tokens</th>\n",
       "      <th>text_tokens</th>\n",
       "      <th>ast_leaf_code_token_idxs</th>\n",
       "    </tr>\n",
       "  </thead>\n",
       "  <tbody>\n",
       "    <tr>\n",
       "      <th>0</th>\n",
       "      <td>Reset task execution to `DELAY` seconds from now.</td>\n",
       "      <td>def reset(self) -&gt; None:\\n        Log.debug('r...</td>\n",
       "      <td>[(\"def\"), (identifier), (\"(\"), (identifier), (...</td>\n",
       "      <td>[(14, [18, 20, 24, 26]), (16, [18, 20, 24, 26]...</td>\n",
       "      <td>610,5672,45,803,46,984,1686,63,310,2681,51,282...</td>\n",
       "      <td>7334,2918,6111,391,548,21382,101,6810,664,2483,51</td>\n",
       "      <td>[[0], [1], [2], [3], [4], [5], [6], [7], [9], ...</td>\n",
       "    </tr>\n",
       "  </tbody>\n",
       "</table>\n",
       "</div>"
      ],
      "text/plain": [
       "                                                text  \\\n",
       "0  Reset task execution to `DELAY` seconds from now.   \n",
       "\n",
       "                                                code  \\\n",
       "0  def reset(self) -> None:\\n        Log.debug('r...   \n",
       "\n",
       "                                          ast_leaves  \\\n",
       "0  [(\"def\"), (identifier), (\"(\"), (identifier), (...   \n",
       "\n",
       "                                           dfg_edges  \\\n",
       "0  [(14, [18, 20, 24, 26]), (16, [18, 20, 24, 26]...   \n",
       "\n",
       "                                         code_tokens  \\\n",
       "0  610,5672,45,803,46,984,1686,63,310,2681,51,282...   \n",
       "\n",
       "                                         text_tokens  \\\n",
       "0  7334,2918,6111,391,548,21382,101,6810,664,2483,51   \n",
       "\n",
       "                            ast_leaf_code_token_idxs  \n",
       "0  [[0], [1], [2], [3], [4], [5], [6], [7], [9], ...  "
      ]
     },
     "execution_count": 12,
     "metadata": {},
     "output_type": "execute_result"
    }
   ],
   "source": [
    "data = data_handler.convert_tokens_to_strings(data)\n",
    "data"
   ]
  },
  {
   "cell_type": "code",
   "execution_count": 13,
   "id": "98bd117a-9672-4ea9-91df-11cb6a9d4e5b",
   "metadata": {},
   "outputs": [
    {
     "name": "stderr",
     "output_type": "stream",
     "text": [
      "1it [00:00, 1364.45it/s]\n",
      "1it [00:00, 16070.13it/s]\n"
     ]
    }
   ],
   "source": [
    "num_rows_per_file = 100000\n",
    "\n",
    "all_node_types = data_handler.store_preprocessed_data(data, num_rows_per_file=10000)"
   ]
  },
  {
   "cell_type": "code",
   "execution_count": 14,
   "id": "7fbf1899-3124-4b42-a88f-195844c75b85",
   "metadata": {},
   "outputs": [
    {
     "data": {
      "text/html": [
       "<div>\n",
       "<style scoped>\n",
       "    .dataframe tbody tr th:only-of-type {\n",
       "        vertical-align: middle;\n",
       "    }\n",
       "\n",
       "    .dataframe tbody tr th {\n",
       "        vertical-align: top;\n",
       "    }\n",
       "\n",
       "    .dataframe thead th {\n",
       "        text-align: right;\n",
       "    }\n",
       "</style>\n",
       "<table border=\"1\" class=\"dataframe\">\n",
       "  <thead>\n",
       "    <tr style=\"text-align: right;\">\n",
       "      <th></th>\n",
       "      <th>text</th>\n",
       "      <th>code</th>\n",
       "      <th>ast_leaves</th>\n",
       "      <th>dfg_edges</th>\n",
       "      <th>code_tokens</th>\n",
       "      <th>text_tokens</th>\n",
       "      <th>ast_leaf_code_token_idxs</th>\n",
       "    </tr>\n",
       "  </thead>\n",
       "  <tbody>\n",
       "    <tr>\n",
       "      <th>0</th>\n",
       "      <td>Reset task execution to `DELAY` seconds from now.</td>\n",
       "      <td>def reset(self) -&gt; None:\\n        Log.debug('r...</td>\n",
       "      <td>[(\"def\"), (identifier), (\"(\"), (identifier), (...</td>\n",
       "      <td>[(14, [18, 20, 24, 26]), (16, [18, 20, 24, 26]...</td>\n",
       "      <td>610,5672,45,803,46,984,1686,63,310,2681,51,282...</td>\n",
       "      <td>7334,2918,6111,391,548,21382,101,6810,664,2483,51</td>\n",
       "      <td>[[0], [1], [2], [3], [4], [5], [6], [7], [9], ...</td>\n",
       "    </tr>\n",
       "  </tbody>\n",
       "</table>\n",
       "</div>"
      ],
      "text/plain": [
       "                                                text  \\\n",
       "0  Reset task execution to `DELAY` seconds from now.   \n",
       "\n",
       "                                                code  \\\n",
       "0  def reset(self) -> None:\\n        Log.debug('r...   \n",
       "\n",
       "                                          ast_leaves  \\\n",
       "0  [(\"def\"), (identifier), (\"(\"), (identifier), (...   \n",
       "\n",
       "                                           dfg_edges  \\\n",
       "0  [(14, [18, 20, 24, 26]), (16, [18, 20, 24, 26]...   \n",
       "\n",
       "                                         code_tokens  \\\n",
       "0  610,5672,45,803,46,984,1686,63,310,2681,51,282...   \n",
       "\n",
       "                                         text_tokens  \\\n",
       "0  7334,2918,6111,391,548,21382,101,6810,664,2483,51   \n",
       "\n",
       "                            ast_leaf_code_token_idxs  \n",
       "0  [[0], [1], [2], [3], [4], [5], [6], [7], [9], ...  "
      ]
     },
     "execution_count": 14,
     "metadata": {},
     "output_type": "execute_result"
    }
   ],
   "source": [
    "data"
   ]
  },
  {
   "cell_type": "code",
   "execution_count": 15,
   "id": "940124fd-0d0d-4f9c-a690-a22c53420848",
   "metadata": {},
   "outputs": [
    {
     "name": "stderr",
     "output_type": "stream",
     "text": [
      "100%|████████████████████████████████████████████████████████████████████████████████████████████████████████████████████████████████████████████| 2/2 [00:00<00:00, 237.79it/s]\n"
     ]
    }
   ],
   "source": [
    "data_handler.convert_node_types_to_indices(all_node_types)"
   ]
  },
  {
   "cell_type": "code",
   "execution_count": 16,
   "id": "3109ef2f-3e12-4dff-97c1-dc3950c528fb",
   "metadata": {},
   "outputs": [
    {
     "data": {
      "text/html": [
       "<div>\n",
       "<style scoped>\n",
       "    .dataframe tbody tr th:only-of-type {\n",
       "        vertical-align: middle;\n",
       "    }\n",
       "\n",
       "    .dataframe tbody tr th {\n",
       "        vertical-align: top;\n",
       "    }\n",
       "\n",
       "    .dataframe thead th {\n",
       "        text-align: right;\n",
       "    }\n",
       "</style>\n",
       "<table border=\"1\" class=\"dataframe\">\n",
       "  <thead>\n",
       "    <tr style=\"text-align: right;\">\n",
       "      <th></th>\n",
       "      <th>code_tokens</th>\n",
       "      <th>text_tokens</th>\n",
       "      <th>ast_leaf_code_token_idxs</th>\n",
       "      <th>ll_sims</th>\n",
       "      <th>lr_paths_types</th>\n",
       "      <th>dfg_node_code_token_idxs</th>\n",
       "      <th>dfg_edges</th>\n",
       "    </tr>\n",
       "  </thead>\n",
       "  <tbody>\n",
       "    <tr>\n",
       "      <th>0</th>\n",
       "      <td>610,5672,45,803,46,984,1686,63,310,2681,51,282...</td>\n",
       "      <td>7334,2918,6111,391,548,21382,101,6810,664,2483,51</td>\n",
       "      <td>[[0], [1], [2], [3], [4], [5], [6], [7], [9], ...</td>\n",
       "      <td>1.0,0.4444444444444444,0.3333333333333333,0.33...</td>\n",
       "      <td>[[13, 15, 17], [16, 15, 17], [0, 19, 15, 17], ...</td>\n",
       "      <td>[[3], [21], [23], [25], [27], [30], [32]]</td>\n",
       "      <td>[(1, [3, 4, 5, 6]), (2, [3, 4, 5, 6]), (3, [0]...</td>\n",
       "    </tr>\n",
       "  </tbody>\n",
       "</table>\n",
       "</div>"
      ],
      "text/plain": [
       "                                         code_tokens  \\\n",
       "0  610,5672,45,803,46,984,1686,63,310,2681,51,282...   \n",
       "\n",
       "                                         text_tokens  \\\n",
       "0  7334,2918,6111,391,548,21382,101,6810,664,2483,51   \n",
       "\n",
       "                            ast_leaf_code_token_idxs  \\\n",
       "0  [[0], [1], [2], [3], [4], [5], [6], [7], [9], ...   \n",
       "\n",
       "                                             ll_sims  \\\n",
       "0  1.0,0.4444444444444444,0.3333333333333333,0.33...   \n",
       "\n",
       "                                      lr_paths_types  \\\n",
       "0  [[13, 15, 17], [16, 15, 17], [0, 19, 15, 17], ...   \n",
       "\n",
       "                    dfg_node_code_token_idxs  \\\n",
       "0  [[3], [21], [23], [25], [27], [30], [32]]   \n",
       "\n",
       "                                           dfg_edges  \n",
       "0  [(1, [3, 4, 5, 6]), (2, [3, 4, 5, 6]), (3, [0]...  "
      ]
     },
     "execution_count": 16,
     "metadata": {},
     "output_type": "execute_result"
    }
   ],
   "source": [
    "import pandas as pd\n",
    "\n",
    "df = pd.read_parquet('../data/cont_pretrain/from_0.parquet')\n",
    "df"
   ]
  },
  {
   "cell_type": "code",
   "execution_count": 17,
   "id": "a1c0899b-fe7c-4b4e-b0e1-39605a5af890",
   "metadata": {},
   "outputs": [],
   "source": [
    "import pickle\n",
    "\n",
    "with open('../data/cont_pretrain/all_node_types.pkl', 'rb') as file:\n",
    "    node_types = pickle.load(file)"
   ]
  },
  {
   "cell_type": "code",
   "execution_count": 18,
   "id": "ea5390c5-35d2-4c6f-a047-f7bbe47769fe",
   "metadata": {},
   "outputs": [
    {
     "name": "stderr",
     "output_type": "stream",
     "text": [
      "all_node_types.pkl: 100%|████████████████████████████████████████████████████████████████████████████████████████████████████████████████████████| 2/2 [00:00<00:00, 383.16it/s]\n"
     ]
    }
   ],
   "source": [
    "data_handler.reduce_ll_sims()"
   ]
  },
  {
   "cell_type": "code",
   "execution_count": 19,
   "id": "bffe3afd-13b1-466b-8389-8e2cbb1df891",
   "metadata": {},
   "outputs": [],
   "source": [
    "data_reduced = pd.read_parquet('../data/cont_pretrain/from_0.parquet')"
   ]
  },
  {
   "cell_type": "code",
   "execution_count": 20,
   "id": "05772bd7-78f1-4208-bf17-6da0da669165",
   "metadata": {},
   "outputs": [
    {
     "name": "stderr",
     "output_type": "stream",
     "text": [
      "100%|███████████████████████████████████████████████████████████████████████████████████████████████████████████████████████████████████████████| 2/2 [00:00<00:00, 1512.82it/s]\n"
     ]
    }
   ],
   "source": [
    "data = data_handler.get_concat_stored_data()"
   ]
  },
  {
   "cell_type": "code",
   "execution_count": 21,
   "id": "29fde578-1aae-48dc-8214-f3e51bd9cc8b",
   "metadata": {},
   "outputs": [
    {
     "data": {
      "text/html": [
       "<div>\n",
       "<style scoped>\n",
       "    .dataframe tbody tr th:only-of-type {\n",
       "        vertical-align: middle;\n",
       "    }\n",
       "\n",
       "    .dataframe tbody tr th {\n",
       "        vertical-align: top;\n",
       "    }\n",
       "\n",
       "    .dataframe thead th {\n",
       "        text-align: right;\n",
       "    }\n",
       "</style>\n",
       "<table border=\"1\" class=\"dataframe\">\n",
       "  <thead>\n",
       "    <tr style=\"text-align: right;\">\n",
       "      <th></th>\n",
       "      <th>code_tokens</th>\n",
       "      <th>text_tokens</th>\n",
       "      <th>ast_leaf_code_token_idxs</th>\n",
       "      <th>ll_sims</th>\n",
       "      <th>lr_paths_types</th>\n",
       "      <th>dfg_node_code_token_idxs</th>\n",
       "      <th>dfg_edges</th>\n",
       "    </tr>\n",
       "  </thead>\n",
       "  <tbody>\n",
       "    <tr>\n",
       "      <th>0</th>\n",
       "      <td>610,5672,45,803,46,984,1686,63,310,2681,51,282...</td>\n",
       "      <td>7334,2918,6111,391,548,21382,101,6810,664,2483,51</td>\n",
       "      <td>[[0], [1], [2], [3], [4], [5], [6], [7], [9], ...</td>\n",
       "      <td>0.4444444444444444,0.3333333333333333,0.333333...</td>\n",
       "      <td>[[13, 15, 17], [16, 15, 17], [0, 19, 15, 17], ...</td>\n",
       "      <td>[[3], [21], [23], [25], [27], [30], [32]]</td>\n",
       "      <td>[(1, [3, 4, 5, 6]), (2, [3, 4, 5, 6]), (3, [0]...</td>\n",
       "    </tr>\n",
       "  </tbody>\n",
       "</table>\n",
       "</div>"
      ],
      "text/plain": [
       "                                         code_tokens  \\\n",
       "0  610,5672,45,803,46,984,1686,63,310,2681,51,282...   \n",
       "\n",
       "                                         text_tokens  \\\n",
       "0  7334,2918,6111,391,548,21382,101,6810,664,2483,51   \n",
       "\n",
       "                            ast_leaf_code_token_idxs  \\\n",
       "0  [[0], [1], [2], [3], [4], [5], [6], [7], [9], ...   \n",
       "\n",
       "                                             ll_sims  \\\n",
       "0  0.4444444444444444,0.3333333333333333,0.333333...   \n",
       "\n",
       "                                      lr_paths_types  \\\n",
       "0  [[13, 15, 17], [16, 15, 17], [0, 19, 15, 17], ...   \n",
       "\n",
       "                    dfg_node_code_token_idxs  \\\n",
       "0  [[3], [21], [23], [25], [27], [30], [32]]   \n",
       "\n",
       "                                           dfg_edges  \n",
       "0  [(1, [3, 4, 5, 6]), (2, [3, 4, 5, 6]), (3, [0]...  "
      ]
     },
     "execution_count": 21,
     "metadata": {},
     "output_type": "execute_result"
    }
   ],
   "source": [
    "data.head()"
   ]
  }
 ],
 "metadata": {
  "kernelspec": {
   "display_name": "master-thesis",
   "language": "python",
   "name": "master-thesis"
  },
  "language_info": {
   "codemirror_mode": {
    "name": "ipython",
    "version": 3
   },
   "file_extension": ".py",
   "mimetype": "text/x-python",
   "name": "python",
   "nbconvert_exporter": "python",
   "pygments_lexer": "ipython3",
   "version": "3.11.8"
  }
 },
 "nbformat": 4,
 "nbformat_minor": 5
}
