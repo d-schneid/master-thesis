{
 "cells": [
  {
   "cell_type": "code",
   "id": "b03b0bf0-79a4-4a81-96bb-7b4b8650822c",
   "metadata": {
    "ExecuteTime": {
     "end_time": "2025-03-08T20:14:33.308491Z",
     "start_time": "2025-03-08T20:14:31.278886Z"
    }
   },
   "source": [
    "from preprocessing import Parser\n",
    "from preprocessing import DataHandler"
   ],
   "outputs": [
    {
     "name": "stderr",
     "output_type": "stream",
     "text": [
      "/Users/i741961/Documents/SAP/Masterthesis/Code/master-thesis/venv/lib/python3.11/site-packages/tqdm/auto.py:21: TqdmWarning: IProgress not found. Please update jupyter and ipywidgets. See https://ipywidgets.readthedocs.io/en/stable/user_install.html\n",
      "  from .autonotebook import tqdm as notebook_tqdm\n",
      "None of PyTorch, TensorFlow >= 2.0, or Flax have been found. Models won't be available and only tokenizers, configuration and file/data utilities can be used.\n"
     ]
    }
   ],
   "execution_count": 1
  },
  {
   "cell_type": "code",
   "id": "c913ac88-0632-48e9-a8d1-7fe3073c4dec",
   "metadata": {
    "ExecuteTime": {
     "end_time": "2025-03-08T20:14:34.164706Z",
     "start_time": "2025-03-08T20:14:34.161474Z"
    }
   },
   "source": [
    "data_handler = DataHandler()"
   ],
   "outputs": [],
   "execution_count": 2
  },
  {
   "cell_type": "code",
   "id": "d72169d9-17a8-463f-b624-9524fe10d02b",
   "metadata": {
    "ExecuteTime": {
     "end_time": "2025-03-08T20:14:39.434259Z",
     "start_time": "2025-03-08T20:14:36.183131Z"
    }
   },
   "source": "data = data_handler.read_dataset(max_samples_per_split=500)",
   "outputs": [
    {
     "name": "stderr",
     "output_type": "stream",
     "text": [
      "Reading split=train: 100%|██████████| 500/500 [00:00<00:00, 658.99it/s]\n",
      "Reading split=test: 100%|██████████| 500/500 [00:00<00:00, 1656.85it/s]\n",
      "Reading split=validation: 100%|██████████| 500/500 [00:00<00:00, 1621.59it/s]\n"
     ]
    }
   ],
   "execution_count": 3
  },
  {
   "cell_type": "code",
   "id": "8c2c864e-26bd-4b7f-a9d3-e4249485fc9e",
   "metadata": {
    "ExecuteTime": {
     "end_time": "2025-03-08T20:14:40.611488Z",
     "start_time": "2025-03-08T20:14:40.601324Z"
    }
   },
   "source": [
    "#data = data.loc[[3]]\n",
    "#data = data.loc[[9]]\n",
    "#data = data.loc[[5]]\n",
    "data = data.loc[[836]]\n",
    "data"
   ],
   "outputs": [
    {
     "data": {
      "text/plain": [
       "                                                  text  \\\n",
       "836  :param DatasetLocal dataset: dataset to export...   \n",
       "\n",
       "                                                  code  \n",
       "836  def export_fits(dataset, path, column_names=No...  "
      ],
      "text/html": [
       "<div>\n",
       "<style scoped>\n",
       "    .dataframe tbody tr th:only-of-type {\n",
       "        vertical-align: middle;\n",
       "    }\n",
       "\n",
       "    .dataframe tbody tr th {\n",
       "        vertical-align: top;\n",
       "    }\n",
       "\n",
       "    .dataframe thead th {\n",
       "        text-align: right;\n",
       "    }\n",
       "</style>\n",
       "<table border=\"1\" class=\"dataframe\">\n",
       "  <thead>\n",
       "    <tr style=\"text-align: right;\">\n",
       "      <th></th>\n",
       "      <th>text</th>\n",
       "      <th>code</th>\n",
       "    </tr>\n",
       "  </thead>\n",
       "  <tbody>\n",
       "    <tr>\n",
       "      <th>836</th>\n",
       "      <td>:param DatasetLocal dataset: dataset to export...</td>\n",
       "      <td>def export_fits(dataset, path, column_names=No...</td>\n",
       "    </tr>\n",
       "  </tbody>\n",
       "</table>\n",
       "</div>"
      ]
     },
     "execution_count": 4,
     "metadata": {},
     "output_type": "execute_result"
    }
   ],
   "execution_count": 4
  },
  {
   "cell_type": "code",
   "id": "8fdb86d1-2b6f-426b-a2f3-a21b26b2baea",
   "metadata": {
    "ExecuteTime": {
     "end_time": "2025-03-08T20:14:43.322362Z",
     "start_time": "2025-03-08T20:14:43.108877Z"
    }
   },
   "source": [
    "data = data_handler.preprocess(data)\n",
    "data"
   ],
   "outputs": [
    {
     "name": "stderr",
     "output_type": "stream",
     "text": [
      "1it [00:00, 402.22it/s]\n"
     ]
    },
    {
     "data": {
      "text/plain": [
       "                                                text  \\\n",
       "0  :param DatasetLocal dataset: dataset to export...   \n",
       "\n",
       "                                                code  \n",
       "0  def export_fits(dataset, path, column_names=No...  "
      ],
      "text/html": [
       "<div>\n",
       "<style scoped>\n",
       "    .dataframe tbody tr th:only-of-type {\n",
       "        vertical-align: middle;\n",
       "    }\n",
       "\n",
       "    .dataframe tbody tr th {\n",
       "        vertical-align: top;\n",
       "    }\n",
       "\n",
       "    .dataframe thead th {\n",
       "        text-align: right;\n",
       "    }\n",
       "</style>\n",
       "<table border=\"1\" class=\"dataframe\">\n",
       "  <thead>\n",
       "    <tr style=\"text-align: right;\">\n",
       "      <th></th>\n",
       "      <th>text</th>\n",
       "      <th>code</th>\n",
       "    </tr>\n",
       "  </thead>\n",
       "  <tbody>\n",
       "    <tr>\n",
       "      <th>0</th>\n",
       "      <td>:param DatasetLocal dataset: dataset to export...</td>\n",
       "      <td>def export_fits(dataset, path, column_names=No...</td>\n",
       "    </tr>\n",
       "  </tbody>\n",
       "</table>\n",
       "</div>"
      ]
     },
     "execution_count": 5,
     "metadata": {},
     "output_type": "execute_result"
    }
   ],
   "execution_count": 5
  },
  {
   "cell_type": "code",
   "id": "fb73a23a-0fd0-4664-8a08-78615f86c567",
   "metadata": {
    "jupyter": {
     "is_executing": true
    },
    "ExecuteTime": {
     "start_time": "2025-03-08T20:14:45.613078Z"
    }
   },
   "source": [
    "parser = Parser()\n",
    "parser.add_structure(data)\n",
    "data"
   ],
   "outputs": [
    {
     "name": "stderr",
     "output_type": "stream",
     "text": [
      "0it [00:00, ?it/s]"
     ]
    }
   ],
   "execution_count": null
  },
  {
   "cell_type": "code",
   "execution_count": 8,
   "id": "d5500956-9a71-4c4d-bb08-7395bd576186",
   "metadata": {},
   "outputs": [
    {
     "name": "stderr",
     "output_type": "stream",
     "text": [
      "100%|████████████████████████████████████████████████████████████████████████████████████████████████████████████████████████████████████████████| 1/1 [00:00<00:00, 366.03it/s]\n",
      "100%|███████████████████████████████████████████████████████████████████████████████████████████████████████████████████████████████████████████| 1/1 [00:00<00:00, 6288.31it/s]\n"
     ]
    },
    {
     "data": {
      "text/html": [
       "<div>\n",
       "<style scoped>\n",
       "    .dataframe tbody tr th:only-of-type {\n",
       "        vertical-align: middle;\n",
       "    }\n",
       "\n",
       "    .dataframe tbody tr th {\n",
       "        vertical-align: top;\n",
       "    }\n",
       "\n",
       "    .dataframe thead th {\n",
       "        text-align: right;\n",
       "    }\n",
       "</style>\n",
       "<table border=\"1\" class=\"dataframe\">\n",
       "  <thead>\n",
       "    <tr style=\"text-align: right;\">\n",
       "      <th></th>\n",
       "      <th>text</th>\n",
       "      <th>code</th>\n",
       "      <th>ast_leaves</th>\n",
       "      <th>dfg_edges</th>\n",
       "      <th>ast_leaf_tokens</th>\n",
       "      <th>ast_leaf_ranges</th>\n",
       "      <th>code_tokens</th>\n",
       "      <th>text_tokens</th>\n",
       "    </tr>\n",
       "  </thead>\n",
       "  <tbody>\n",
       "    <tr>\n",
       "      <th>0</th>\n",
       "      <td>Reset task execution to `DELAY` seconds from now.</td>\n",
       "      <td>def reset(self) -&gt; None:\\n        Log.debug('r...</td>\n",
       "      <td>[(\"def\"), (identifier), (\"(\"), (identifier), (...</td>\n",
       "      <td>[(14, [18, 20, 24, 26]), (16, [18, 20, 24, 26]...</td>\n",
       "      <td>[def, reset, (, self, ), -&gt;, None, :, Log, ., ...</td>\n",
       "      <td>[(0, 3), (4, 9), (9, 10), (10, 14), (14, 15), ...</td>\n",
       "      <td>[610, 5672, 45, 803, 46, 984, 1686, 63, 310, 2...</td>\n",
       "      <td>[7334, 2918, 6111, 391, 548, 21382, 101, 6810,...</td>\n",
       "    </tr>\n",
       "  </tbody>\n",
       "</table>\n",
       "</div>"
      ],
      "text/plain": [
       "                                                text  \\\n",
       "0  Reset task execution to `DELAY` seconds from now.   \n",
       "\n",
       "                                                code  \\\n",
       "0  def reset(self) -> None:\\n        Log.debug('r...   \n",
       "\n",
       "                                          ast_leaves  \\\n",
       "0  [(\"def\"), (identifier), (\"(\"), (identifier), (...   \n",
       "\n",
       "                                           dfg_edges  \\\n",
       "0  [(14, [18, 20, 24, 26]), (16, [18, 20, 24, 26]...   \n",
       "\n",
       "                                     ast_leaf_tokens  \\\n",
       "0  [def, reset, (, self, ), ->, None, :, Log, ., ...   \n",
       "\n",
       "                                     ast_leaf_ranges  \\\n",
       "0  [(0, 3), (4, 9), (9, 10), (10, 14), (14, 15), ...   \n",
       "\n",
       "                                         code_tokens  \\\n",
       "0  [610, 5672, 45, 803, 46, 984, 1686, 63, 310, 2...   \n",
       "\n",
       "                                         text_tokens  \n",
       "0  [7334, 2918, 6111, 391, 548, 21382, 101, 6810,...  "
      ]
     },
     "execution_count": 8,
     "metadata": {},
     "output_type": "execute_result"
    }
   ],
   "source": [
    "data['code_tokens'] = parser.tokenize_codes_texts(list(data['code']))\n",
    "data['text_tokens'] = parser.tokenize_codes_texts(list(data['text']))\n",
    "data"
   ]
  },
  {
   "cell_type": "code",
   "execution_count": 9,
   "id": "2f24964b-d81d-411f-ab75-39be2f17a72c",
   "metadata": {},
   "outputs": [
    {
     "name": "stderr",
     "output_type": "stream",
     "text": [
      "1it [00:00, 4788.02it/s]\n"
     ]
    },
    {
     "data": {
      "text/html": [
       "<div>\n",
       "<style scoped>\n",
       "    .dataframe tbody tr th:only-of-type {\n",
       "        vertical-align: middle;\n",
       "    }\n",
       "\n",
       "    .dataframe tbody tr th {\n",
       "        vertical-align: top;\n",
       "    }\n",
       "\n",
       "    .dataframe thead th {\n",
       "        text-align: right;\n",
       "    }\n",
       "</style>\n",
       "<table border=\"1\" class=\"dataframe\">\n",
       "  <thead>\n",
       "    <tr style=\"text-align: right;\">\n",
       "      <th></th>\n",
       "      <th>text</th>\n",
       "      <th>code</th>\n",
       "      <th>ast_leaves</th>\n",
       "      <th>dfg_edges</th>\n",
       "      <th>ast_leaf_tokens</th>\n",
       "      <th>ast_leaf_ranges</th>\n",
       "      <th>code_tokens</th>\n",
       "      <th>text_tokens</th>\n",
       "      <th>code_tokens_ranges</th>\n",
       "    </tr>\n",
       "  </thead>\n",
       "  <tbody>\n",
       "    <tr>\n",
       "      <th>0</th>\n",
       "      <td>Reset task execution to `DELAY` seconds from now.</td>\n",
       "      <td>def reset(self) -&gt; None:\\n        Log.debug('r...</td>\n",
       "      <td>[(\"def\"), (identifier), (\"(\"), (identifier), (...</td>\n",
       "      <td>[(14, [18, 20, 24, 26]), (16, [18, 20, 24, 26]...</td>\n",
       "      <td>[def, reset, (, self, ), -&gt;, None, :, Log, ., ...</td>\n",
       "      <td>[(0, 3), (4, 9), (9, 10), (10, 14), (14, 15), ...</td>\n",
       "      <td>[610, 5672, 45, 803, 46, 984, 1686, 63, 310, 2...</td>\n",
       "      <td>[7334, 2918, 6111, 391, 548, 21382, 101, 6810,...</td>\n",
       "      <td>[(0, 3), (3, 9), (9, 10), (10, 14), (14, 15), ...</td>\n",
       "    </tr>\n",
       "  </tbody>\n",
       "</table>\n",
       "</div>"
      ],
      "text/plain": [
       "                                                text  \\\n",
       "0  Reset task execution to `DELAY` seconds from now.   \n",
       "\n",
       "                                                code  \\\n",
       "0  def reset(self) -> None:\\n        Log.debug('r...   \n",
       "\n",
       "                                          ast_leaves  \\\n",
       "0  [(\"def\"), (identifier), (\"(\"), (identifier), (...   \n",
       "\n",
       "                                           dfg_edges  \\\n",
       "0  [(14, [18, 20, 24, 26]), (16, [18, 20, 24, 26]...   \n",
       "\n",
       "                                     ast_leaf_tokens  \\\n",
       "0  [def, reset, (, self, ), ->, None, :, Log, ., ...   \n",
       "\n",
       "                                     ast_leaf_ranges  \\\n",
       "0  [(0, 3), (4, 9), (9, 10), (10, 14), (14, 15), ...   \n",
       "\n",
       "                                         code_tokens  \\\n",
       "0  [610, 5672, 45, 803, 46, 984, 1686, 63, 310, 2...   \n",
       "\n",
       "                                         text_tokens  \\\n",
       "0  [7334, 2918, 6111, 391, 548, 21382, 101, 6810,...   \n",
       "\n",
       "                                  code_tokens_ranges  \n",
       "0  [(0, 3), (3, 9), (9, 10), (10, 14), (14, 15), ...  "
      ]
     },
     "execution_count": 9,
     "metadata": {},
     "output_type": "execute_result"
    }
   ],
   "source": [
    "parser.add_code_tokens_ranges(data)\n",
    "data"
   ]
  },
  {
   "cell_type": "code",
   "execution_count": 10,
   "id": "decc9c19-65d7-4b86-9b0c-d5a287f8fed9",
   "metadata": {},
   "outputs": [
    {
     "name": "stderr",
     "output_type": "stream",
     "text": [
      "1it [00:00, 17848.10it/s]\n"
     ]
    }
   ],
   "source": [
    "parser.map_ast_leaf_code_token_indices(data)"
   ]
  },
  {
   "cell_type": "code",
   "execution_count": 11,
   "id": "5e405b96-28d0-4b49-88cc-3a774d422934",
   "metadata": {},
   "outputs": [
    {
     "data": {
      "text/html": [
       "<div>\n",
       "<style scoped>\n",
       "    .dataframe tbody tr th:only-of-type {\n",
       "        vertical-align: middle;\n",
       "    }\n",
       "\n",
       "    .dataframe tbody tr th {\n",
       "        vertical-align: top;\n",
       "    }\n",
       "\n",
       "    .dataframe thead th {\n",
       "        text-align: right;\n",
       "    }\n",
       "</style>\n",
       "<table border=\"1\" class=\"dataframe\">\n",
       "  <thead>\n",
       "    <tr style=\"text-align: right;\">\n",
       "      <th></th>\n",
       "      <th>text</th>\n",
       "      <th>code</th>\n",
       "      <th>ast_leaves</th>\n",
       "      <th>dfg_edges</th>\n",
       "      <th>ast_leaf_tokens</th>\n",
       "      <th>ast_leaf_ranges</th>\n",
       "      <th>code_tokens</th>\n",
       "      <th>text_tokens</th>\n",
       "      <th>code_tokens_ranges</th>\n",
       "      <th>ast_leaf_code_token_idxs</th>\n",
       "    </tr>\n",
       "  </thead>\n",
       "  <tbody>\n",
       "    <tr>\n",
       "      <th>0</th>\n",
       "      <td>Reset task execution to `DELAY` seconds from now.</td>\n",
       "      <td>def reset(self) -&gt; None:\\n        Log.debug('r...</td>\n",
       "      <td>[(\"def\"), (identifier), (\"(\"), (identifier), (...</td>\n",
       "      <td>[(14, [18, 20, 24, 26]), (16, [18, 20, 24, 26]...</td>\n",
       "      <td>[def, reset, (, self, ), -&gt;, None, :, Log, ., ...</td>\n",
       "      <td>[(0, 3), (4, 9), (9, 10), (10, 14), (14, 15), ...</td>\n",
       "      <td>[610, 5672, 45, 803, 46, 984, 1686, 63, 310, 2...</td>\n",
       "      <td>[7334, 2918, 6111, 391, 548, 21382, 101, 6810,...</td>\n",
       "      <td>[(0, 3), (3, 9), (9, 10), (10, 14), (14, 15), ...</td>\n",
       "      <td>[[0], [1], [2], [3], [4], [5], [6], [7], [9], ...</td>\n",
       "    </tr>\n",
       "  </tbody>\n",
       "</table>\n",
       "</div>"
      ],
      "text/plain": [
       "                                                text  \\\n",
       "0  Reset task execution to `DELAY` seconds from now.   \n",
       "\n",
       "                                                code  \\\n",
       "0  def reset(self) -> None:\\n        Log.debug('r...   \n",
       "\n",
       "                                          ast_leaves  \\\n",
       "0  [(\"def\"), (identifier), (\"(\"), (identifier), (...   \n",
       "\n",
       "                                           dfg_edges  \\\n",
       "0  [(14, [18, 20, 24, 26]), (16, [18, 20, 24, 26]...   \n",
       "\n",
       "                                     ast_leaf_tokens  \\\n",
       "0  [def, reset, (, self, ), ->, None, :, Log, ., ...   \n",
       "\n",
       "                                     ast_leaf_ranges  \\\n",
       "0  [(0, 3), (4, 9), (9, 10), (10, 14), (14, 15), ...   \n",
       "\n",
       "                                         code_tokens  \\\n",
       "0  [610, 5672, 45, 803, 46, 984, 1686, 63, 310, 2...   \n",
       "\n",
       "                                         text_tokens  \\\n",
       "0  [7334, 2918, 6111, 391, 548, 21382, 101, 6810,...   \n",
       "\n",
       "                                  code_tokens_ranges  \\\n",
       "0  [(0, 3), (3, 9), (9, 10), (10, 14), (14, 15), ...   \n",
       "\n",
       "                            ast_leaf_code_token_idxs  \n",
       "0  [[0], [1], [2], [3], [4], [5], [6], [7], [9], ...  "
      ]
     },
     "execution_count": 11,
     "metadata": {},
     "output_type": "execute_result"
    }
   ],
   "source": [
    "data"
   ]
  },
  {
   "cell_type": "code",
   "execution_count": 12,
   "id": "61ce4ae2-d1be-4c47-8ff6-54b86480d202",
   "metadata": {},
   "outputs": [
    {
     "name": "stderr",
     "output_type": "stream",
     "text": [
      "100%|███████████████████████████████████████████████████████████████████████████████████████████████████████████████████████████████████████████| 1/1 [00:00<00:00, 5622.39it/s]\n",
      "100%|███████████████████████████████████████████████████████████████████████████████████████████████████████████████████████████████████████████| 1/1 [00:00<00:00, 9892.23it/s]\n"
     ]
    },
    {
     "data": {
      "text/html": [
       "<div>\n",
       "<style scoped>\n",
       "    .dataframe tbody tr th:only-of-type {\n",
       "        vertical-align: middle;\n",
       "    }\n",
       "\n",
       "    .dataframe tbody tr th {\n",
       "        vertical-align: top;\n",
       "    }\n",
       "\n",
       "    .dataframe thead th {\n",
       "        text-align: right;\n",
       "    }\n",
       "</style>\n",
       "<table border=\"1\" class=\"dataframe\">\n",
       "  <thead>\n",
       "    <tr style=\"text-align: right;\">\n",
       "      <th></th>\n",
       "      <th>text</th>\n",
       "      <th>code</th>\n",
       "      <th>ast_leaves</th>\n",
       "      <th>dfg_edges</th>\n",
       "      <th>code_tokens</th>\n",
       "      <th>text_tokens</th>\n",
       "      <th>ast_leaf_code_token_idxs</th>\n",
       "    </tr>\n",
       "  </thead>\n",
       "  <tbody>\n",
       "    <tr>\n",
       "      <th>0</th>\n",
       "      <td>Reset task execution to `DELAY` seconds from now.</td>\n",
       "      <td>def reset(self) -&gt; None:\\n        Log.debug('r...</td>\n",
       "      <td>[(\"def\"), (identifier), (\"(\"), (identifier), (...</td>\n",
       "      <td>[(14, [18, 20, 24, 26]), (16, [18, 20, 24, 26]...</td>\n",
       "      <td>610,5672,45,803,46,984,1686,63,310,2681,51,282...</td>\n",
       "      <td>7334,2918,6111,391,548,21382,101,6810,664,2483,51</td>\n",
       "      <td>[[0], [1], [2], [3], [4], [5], [6], [7], [9], ...</td>\n",
       "    </tr>\n",
       "  </tbody>\n",
       "</table>\n",
       "</div>"
      ],
      "text/plain": [
       "                                                text  \\\n",
       "0  Reset task execution to `DELAY` seconds from now.   \n",
       "\n",
       "                                                code  \\\n",
       "0  def reset(self) -> None:\\n        Log.debug('r...   \n",
       "\n",
       "                                          ast_leaves  \\\n",
       "0  [(\"def\"), (identifier), (\"(\"), (identifier), (...   \n",
       "\n",
       "                                           dfg_edges  \\\n",
       "0  [(14, [18, 20, 24, 26]), (16, [18, 20, 24, 26]...   \n",
       "\n",
       "                                         code_tokens  \\\n",
       "0  610,5672,45,803,46,984,1686,63,310,2681,51,282...   \n",
       "\n",
       "                                         text_tokens  \\\n",
       "0  7334,2918,6111,391,548,21382,101,6810,664,2483,51   \n",
       "\n",
       "                            ast_leaf_code_token_idxs  \n",
       "0  [[0], [1], [2], [3], [4], [5], [6], [7], [9], ...  "
      ]
     },
     "execution_count": 12,
     "metadata": {},
     "output_type": "execute_result"
    }
   ],
   "source": [
    "data = data_handler.convert_tokens_to_strings(data)\n",
    "data"
   ]
  },
  {
   "cell_type": "code",
   "execution_count": 13,
   "id": "98bd117a-9672-4ea9-91df-11cb6a9d4e5b",
   "metadata": {},
   "outputs": [
    {
     "name": "stderr",
     "output_type": "stream",
     "text": [
      "1it [00:00, 1364.45it/s]\n",
      "1it [00:00, 16070.13it/s]\n"
     ]
    }
   ],
   "source": [
    "num_rows_per_file = 100000\n",
    "\n",
    "all_node_types = data_handler.store_preprocessed_data(data, num_rows_per_file=10000)"
   ]
  },
  {
   "cell_type": "code",
   "execution_count": 14,
   "id": "7fbf1899-3124-4b42-a88f-195844c75b85",
   "metadata": {},
   "outputs": [
    {
     "data": {
      "text/html": [
       "<div>\n",
       "<style scoped>\n",
       "    .dataframe tbody tr th:only-of-type {\n",
       "        vertical-align: middle;\n",
       "    }\n",
       "\n",
       "    .dataframe tbody tr th {\n",
       "        vertical-align: top;\n",
       "    }\n",
       "\n",
       "    .dataframe thead th {\n",
       "        text-align: right;\n",
       "    }\n",
       "</style>\n",
       "<table border=\"1\" class=\"dataframe\">\n",
       "  <thead>\n",
       "    <tr style=\"text-align: right;\">\n",
       "      <th></th>\n",
       "      <th>text</th>\n",
       "      <th>code</th>\n",
       "      <th>ast_leaves</th>\n",
       "      <th>dfg_edges</th>\n",
       "      <th>code_tokens</th>\n",
       "      <th>text_tokens</th>\n",
       "      <th>ast_leaf_code_token_idxs</th>\n",
       "    </tr>\n",
       "  </thead>\n",
       "  <tbody>\n",
       "    <tr>\n",
       "      <th>0</th>\n",
       "      <td>Reset task execution to `DELAY` seconds from now.</td>\n",
       "      <td>def reset(self) -&gt; None:\\n        Log.debug('r...</td>\n",
       "      <td>[(\"def\"), (identifier), (\"(\"), (identifier), (...</td>\n",
       "      <td>[(14, [18, 20, 24, 26]), (16, [18, 20, 24, 26]...</td>\n",
       "      <td>610,5672,45,803,46,984,1686,63,310,2681,51,282...</td>\n",
       "      <td>7334,2918,6111,391,548,21382,101,6810,664,2483,51</td>\n",
       "      <td>[[0], [1], [2], [3], [4], [5], [6], [7], [9], ...</td>\n",
       "    </tr>\n",
       "  </tbody>\n",
       "</table>\n",
       "</div>"
      ],
      "text/plain": [
       "                                                text  \\\n",
       "0  Reset task execution to `DELAY` seconds from now.   \n",
       "\n",
       "                                                code  \\\n",
       "0  def reset(self) -> None:\\n        Log.debug('r...   \n",
       "\n",
       "                                          ast_leaves  \\\n",
       "0  [(\"def\"), (identifier), (\"(\"), (identifier), (...   \n",
       "\n",
       "                                           dfg_edges  \\\n",
       "0  [(14, [18, 20, 24, 26]), (16, [18, 20, 24, 26]...   \n",
       "\n",
       "                                         code_tokens  \\\n",
       "0  610,5672,45,803,46,984,1686,63,310,2681,51,282...   \n",
       "\n",
       "                                         text_tokens  \\\n",
       "0  7334,2918,6111,391,548,21382,101,6810,664,2483,51   \n",
       "\n",
       "                            ast_leaf_code_token_idxs  \n",
       "0  [[0], [1], [2], [3], [4], [5], [6], [7], [9], ...  "
      ]
     },
     "execution_count": 14,
     "metadata": {},
     "output_type": "execute_result"
    }
   ],
   "source": [
    "data"
   ]
  },
  {
   "cell_type": "code",
   "execution_count": 15,
   "id": "940124fd-0d0d-4f9c-a690-a22c53420848",
   "metadata": {},
   "outputs": [
    {
     "name": "stderr",
     "output_type": "stream",
     "text": [
      "100%|████████████████████████████████████████████████████████████████████████████████████████████████████████████████████████████████████████████| 2/2 [00:00<00:00, 237.79it/s]\n"
     ]
    }
   ],
   "source": [
    "data_handler.convert_node_types_to_indices(all_node_types)"
   ]
  },
  {
   "cell_type": "code",
   "execution_count": 16,
   "id": "3109ef2f-3e12-4dff-97c1-dc3950c528fb",
   "metadata": {},
   "outputs": [
    {
     "data": {
      "text/html": [
       "<div>\n",
       "<style scoped>\n",
       "    .dataframe tbody tr th:only-of-type {\n",
       "        vertical-align: middle;\n",
       "    }\n",
       "\n",
       "    .dataframe tbody tr th {\n",
       "        vertical-align: top;\n",
       "    }\n",
       "\n",
       "    .dataframe thead th {\n",
       "        text-align: right;\n",
       "    }\n",
       "</style>\n",
       "<table border=\"1\" class=\"dataframe\">\n",
       "  <thead>\n",
       "    <tr style=\"text-align: right;\">\n",
       "      <th></th>\n",
       "      <th>code_tokens</th>\n",
       "      <th>text_tokens</th>\n",
       "      <th>ast_leaf_code_token_idxs</th>\n",
       "      <th>ll_sims</th>\n",
       "      <th>lr_paths_types</th>\n",
       "      <th>dfg_node_code_token_idxs</th>\n",
       "      <th>dfg_edges</th>\n",
       "    </tr>\n",
       "  </thead>\n",
       "  <tbody>\n",
       "    <tr>\n",
       "      <th>0</th>\n",
       "      <td>610,5672,45,803,46,984,1686,63,310,2681,51,282...</td>\n",
       "      <td>7334,2918,6111,391,548,21382,101,6810,664,2483,51</td>\n",
       "      <td>[[0], [1], [2], [3], [4], [5], [6], [7], [9], ...</td>\n",
       "      <td>1.0,0.4444444444444444,0.3333333333333333,0.33...</td>\n",
       "      <td>[[13, 15, 17], [16, 15, 17], [0, 19, 15, 17], ...</td>\n",
       "      <td>[[3], [21], [23], [25], [27], [30], [32]]</td>\n",
       "      <td>[(1, [3, 4, 5, 6]), (2, [3, 4, 5, 6]), (3, [0]...</td>\n",
       "    </tr>\n",
       "  </tbody>\n",
       "</table>\n",
       "</div>"
      ],
      "text/plain": [
       "                                         code_tokens  \\\n",
       "0  610,5672,45,803,46,984,1686,63,310,2681,51,282...   \n",
       "\n",
       "                                         text_tokens  \\\n",
       "0  7334,2918,6111,391,548,21382,101,6810,664,2483,51   \n",
       "\n",
       "                            ast_leaf_code_token_idxs  \\\n",
       "0  [[0], [1], [2], [3], [4], [5], [6], [7], [9], ...   \n",
       "\n",
       "                                             ll_sims  \\\n",
       "0  1.0,0.4444444444444444,0.3333333333333333,0.33...   \n",
       "\n",
       "                                      lr_paths_types  \\\n",
       "0  [[13, 15, 17], [16, 15, 17], [0, 19, 15, 17], ...   \n",
       "\n",
       "                    dfg_node_code_token_idxs  \\\n",
       "0  [[3], [21], [23], [25], [27], [30], [32]]   \n",
       "\n",
       "                                           dfg_edges  \n",
       "0  [(1, [3, 4, 5, 6]), (2, [3, 4, 5, 6]), (3, [0]...  "
      ]
     },
     "execution_count": 16,
     "metadata": {},
     "output_type": "execute_result"
    }
   ],
   "source": [
    "import pandas as pd\n",
    "\n",
    "df = pd.read_parquet('../data/cont_pretrain/from_0.parquet')\n",
    "df"
   ]
  },
  {
   "cell_type": "code",
   "execution_count": 17,
   "id": "a1c0899b-fe7c-4b4e-b0e1-39605a5af890",
   "metadata": {},
   "outputs": [],
   "source": [
    "import pickle\n",
    "\n",
    "with open('../data/cont_pretrain/all_node_types.pkl', 'rb') as file:\n",
    "    node_types = pickle.load(file)"
   ]
  },
  {
   "cell_type": "code",
   "execution_count": 18,
   "id": "ea5390c5-35d2-4c6f-a047-f7bbe47769fe",
   "metadata": {},
   "outputs": [
    {
     "name": "stderr",
     "output_type": "stream",
     "text": [
      "all_node_types.pkl: 100%|████████████████████████████████████████████████████████████████████████████████████████████████████████████████████████| 2/2 [00:00<00:00, 383.16it/s]\n"
     ]
    }
   ],
   "source": [
    "data_handler.reduce_ll_sims()"
   ]
  },
  {
   "cell_type": "code",
   "execution_count": 19,
   "id": "bffe3afd-13b1-466b-8389-8e2cbb1df891",
   "metadata": {},
   "outputs": [],
   "source": "data_reduced = pd.read_parquet('../data/cont_pretrain/from_0.parquet')"
  },
  {
   "cell_type": "code",
   "execution_count": 20,
   "id": "05772bd7-78f1-4208-bf17-6da0da669165",
   "metadata": {},
   "outputs": [
    {
     "name": "stderr",
     "output_type": "stream",
     "text": [
      "100%|███████████████████████████████████████████████████████████████████████████████████████████████████████████████████████████████████████████| 2/2 [00:00<00:00, 1512.82it/s]\n"
     ]
    }
   ],
   "source": [
    "data = data_handler.get_concat_stored_data()"
   ]
  },
  {
   "cell_type": "code",
   "execution_count": 21,
   "id": "29fde578-1aae-48dc-8214-f3e51bd9cc8b",
   "metadata": {},
   "outputs": [
    {
     "data": {
      "text/html": [
       "<div>\n",
       "<style scoped>\n",
       "    .dataframe tbody tr th:only-of-type {\n",
       "        vertical-align: middle;\n",
       "    }\n",
       "\n",
       "    .dataframe tbody tr th {\n",
       "        vertical-align: top;\n",
       "    }\n",
       "\n",
       "    .dataframe thead th {\n",
       "        text-align: right;\n",
       "    }\n",
       "</style>\n",
       "<table border=\"1\" class=\"dataframe\">\n",
       "  <thead>\n",
       "    <tr style=\"text-align: right;\">\n",
       "      <th></th>\n",
       "      <th>code_tokens</th>\n",
       "      <th>text_tokens</th>\n",
       "      <th>ast_leaf_code_token_idxs</th>\n",
       "      <th>ll_sims</th>\n",
       "      <th>lr_paths_types</th>\n",
       "      <th>dfg_node_code_token_idxs</th>\n",
       "      <th>dfg_edges</th>\n",
       "    </tr>\n",
       "  </thead>\n",
       "  <tbody>\n",
       "    <tr>\n",
       "      <th>0</th>\n",
       "      <td>610,5672,45,803,46,984,1686,63,310,2681,51,282...</td>\n",
       "      <td>7334,2918,6111,391,548,21382,101,6810,664,2483,51</td>\n",
       "      <td>[[0], [1], [2], [3], [4], [5], [6], [7], [9], ...</td>\n",
       "      <td>0.4444444444444444,0.3333333333333333,0.333333...</td>\n",
       "      <td>[[13, 15, 17], [16, 15, 17], [0, 19, 15, 17], ...</td>\n",
       "      <td>[[3], [21], [23], [25], [27], [30], [32]]</td>\n",
       "      <td>[(1, [3, 4, 5, 6]), (2, [3, 4, 5, 6]), (3, [0]...</td>\n",
       "    </tr>\n",
       "  </tbody>\n",
       "</table>\n",
       "</div>"
      ],
      "text/plain": [
       "                                         code_tokens  \\\n",
       "0  610,5672,45,803,46,984,1686,63,310,2681,51,282...   \n",
       "\n",
       "                                         text_tokens  \\\n",
       "0  7334,2918,6111,391,548,21382,101,6810,664,2483,51   \n",
       "\n",
       "                            ast_leaf_code_token_idxs  \\\n",
       "0  [[0], [1], [2], [3], [4], [5], [6], [7], [9], ...   \n",
       "\n",
       "                                             ll_sims  \\\n",
       "0  0.4444444444444444,0.3333333333333333,0.333333...   \n",
       "\n",
       "                                      lr_paths_types  \\\n",
       "0  [[13, 15, 17], [16, 15, 17], [0, 19, 15, 17], ...   \n",
       "\n",
       "                    dfg_node_code_token_idxs  \\\n",
       "0  [[3], [21], [23], [25], [27], [30], [32]]   \n",
       "\n",
       "                                           dfg_edges  \n",
       "0  [(1, [3, 4, 5, 6]), (2, [3, 4, 5, 6]), (3, [0]...  "
      ]
     },
     "execution_count": 21,
     "metadata": {},
     "output_type": "execute_result"
    }
   ],
   "source": [
    "data.head()"
   ]
  }
 ],
 "metadata": {
  "kernelspec": {
   "display_name": "master-thesis",
   "language": "python",
   "name": "master-thesis"
  },
  "language_info": {
   "codemirror_mode": {
    "name": "ipython",
    "version": 3
   },
   "file_extension": ".py",
   "mimetype": "text/x-python",
   "name": "python",
   "nbconvert_exporter": "python",
   "pygments_lexer": "ipython3",
   "version": "3.11.8"
  }
 },
 "nbformat": 4,
 "nbformat_minor": 5
}
