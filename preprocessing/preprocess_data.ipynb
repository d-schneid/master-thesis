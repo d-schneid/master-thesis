{
 "cells": [
  {
   "cell_type": "code",
   "id": "b03b0bf0-79a4-4a81-96bb-7b4b8650822c",
   "metadata": {
    "ExecuteTime": {
     "end_time": "2025-03-11T20:06:52.361145Z",
     "start_time": "2025-03-11T20:06:50.755913Z"
    }
   },
   "source": [
    "from preprocessing import Parser\n",
    "from preprocessing import DataHandler"
   ],
   "outputs": [
    {
     "name": "stderr",
     "output_type": "stream",
     "text": [
      "/Users/i741961/Documents/SAP/Masterthesis/Code/master-thesis/venv/lib/python3.11/site-packages/tqdm/auto.py:21: TqdmWarning: IProgress not found. Please update jupyter and ipywidgets. See https://ipywidgets.readthedocs.io/en/stable/user_install.html\n",
      "  from .autonotebook import tqdm as notebook_tqdm\n",
      "None of PyTorch, TensorFlow >= 2.0, or Flax have been found. Models won't be available and only tokenizers, configuration and file/data utilities can be used.\n"
     ]
    }
   ],
   "execution_count": 1
  },
  {
   "cell_type": "code",
   "id": "c913ac88-0632-48e9-a8d1-7fe3073c4dec",
   "metadata": {
    "ExecuteTime": {
     "end_time": "2025-03-11T20:06:53.152065Z",
     "start_time": "2025-03-11T20:06:53.149099Z"
    }
   },
   "source": [
    "data_handler = DataHandler()"
   ],
   "outputs": [],
   "execution_count": 2
  },
  {
   "cell_type": "code",
   "id": "d72169d9-17a8-463f-b624-9524fe10d02b",
   "metadata": {
    "ExecuteTime": {
     "end_time": "2025-03-11T20:06:57.835039Z",
     "start_time": "2025-03-11T20:06:54.601183Z"
    }
   },
   "source": [
    "data = data_handler.read_dataset(max_samples_per_split=500)"
   ],
   "outputs": [
    {
     "name": "stderr",
     "output_type": "stream",
     "text": [
      "Reading split=train: 100%|██████████| 500/500 [00:00<00:00, 681.80it/s]\n",
      "Reading split=test: 100%|██████████| 500/500 [00:00<00:00, 2215.85it/s]\n",
      "Reading split=validation: 100%|██████████| 500/500 [00:00<00:00, 1713.65it/s]\n"
     ]
    }
   ],
   "execution_count": 3
  },
  {
   "cell_type": "code",
   "id": "8c2c864e-26bd-4b7f-a9d3-e4249485fc9e",
   "metadata": {
    "ExecuteTime": {
     "end_time": "2025-03-11T20:06:58.467948Z",
     "start_time": "2025-03-11T20:06:58.459684Z"
    }
   },
   "source": [
    "#data = data.loc[[3]]\n",
    "#data = data.loc[[9]]\n",
    "#data = data.loc[[5]]\n",
    "data = data.loc[[836]]\n",
    "data"
   ],
   "outputs": [
    {
     "data": {
      "text/plain": [
       "                                                  text  \\\n",
       "836  :param DatasetLocal dataset: dataset to export...   \n",
       "\n",
       "                                                  code  \n",
       "836  def export_fits(dataset, path, column_names=No...  "
      ],
      "text/html": [
       "<div>\n",
       "<style scoped>\n",
       "    .dataframe tbody tr th:only-of-type {\n",
       "        vertical-align: middle;\n",
       "    }\n",
       "\n",
       "    .dataframe tbody tr th {\n",
       "        vertical-align: top;\n",
       "    }\n",
       "\n",
       "    .dataframe thead th {\n",
       "        text-align: right;\n",
       "    }\n",
       "</style>\n",
       "<table border=\"1\" class=\"dataframe\">\n",
       "  <thead>\n",
       "    <tr style=\"text-align: right;\">\n",
       "      <th></th>\n",
       "      <th>text</th>\n",
       "      <th>code</th>\n",
       "    </tr>\n",
       "  </thead>\n",
       "  <tbody>\n",
       "    <tr>\n",
       "      <th>836</th>\n",
       "      <td>:param DatasetLocal dataset: dataset to export...</td>\n",
       "      <td>def export_fits(dataset, path, column_names=No...</td>\n",
       "    </tr>\n",
       "  </tbody>\n",
       "</table>\n",
       "</div>"
      ]
     },
     "execution_count": 4,
     "metadata": {},
     "output_type": "execute_result"
    }
   ],
   "execution_count": 4
  },
  {
   "cell_type": "code",
   "id": "8fdb86d1-2b6f-426b-a2f3-a21b26b2baea",
   "metadata": {
    "ExecuteTime": {
     "end_time": "2025-03-11T20:07:00.739926Z",
     "start_time": "2025-03-11T20:07:00.529970Z"
    }
   },
   "source": [
    "data = data_handler.preprocess(data)\n",
    "data"
   ],
   "outputs": [
    {
     "name": "stderr",
     "output_type": "stream",
     "text": [
      "1it [00:00, 379.37it/s]\n"
     ]
    },
    {
     "data": {
      "text/plain": [
       "                                                text  \\\n",
       "0  :param DatasetLocal dataset: dataset to export...   \n",
       "\n",
       "                                                code  \n",
       "0  def export_fits(dataset, path, column_names=No...  "
      ],
      "text/html": [
       "<div>\n",
       "<style scoped>\n",
       "    .dataframe tbody tr th:only-of-type {\n",
       "        vertical-align: middle;\n",
       "    }\n",
       "\n",
       "    .dataframe tbody tr th {\n",
       "        vertical-align: top;\n",
       "    }\n",
       "\n",
       "    .dataframe thead th {\n",
       "        text-align: right;\n",
       "    }\n",
       "</style>\n",
       "<table border=\"1\" class=\"dataframe\">\n",
       "  <thead>\n",
       "    <tr style=\"text-align: right;\">\n",
       "      <th></th>\n",
       "      <th>text</th>\n",
       "      <th>code</th>\n",
       "    </tr>\n",
       "  </thead>\n",
       "  <tbody>\n",
       "    <tr>\n",
       "      <th>0</th>\n",
       "      <td>:param DatasetLocal dataset: dataset to export...</td>\n",
       "      <td>def export_fits(dataset, path, column_names=No...</td>\n",
       "    </tr>\n",
       "  </tbody>\n",
       "</table>\n",
       "</div>"
      ]
     },
     "execution_count": 5,
     "metadata": {},
     "output_type": "execute_result"
    }
   ],
   "execution_count": 5
  },
  {
   "metadata": {
    "ExecuteTime": {
     "end_time": "2025-03-11T20:07:02.402275Z",
     "start_time": "2025-03-11T20:07:02.399523Z"
    }
   },
   "cell_type": "code",
   "source": [
    "new_function = \"\"\"def export_fits(dataset, path, column_names=None, shuffle=False, selection=False, progress=None, virtual=True, sort=None, ascending=True):\n",
    "    dataset.dtype = \"dtype\"\n",
    "    dtype = \"other_dtype\"\n",
    "    hello = dataset.dtype\n",
    "    null_values = {key: dataset.columns[key].fill_value for key in dataset.get_column_names() if check and dataset.dtype(key).kind != \"f\"}\n",
    "    lst = []\n",
    "    lst_check = [print(entry) for entry in lst if check and dataset.dtype(entry).kind != \"f\"]\"\"\""
   ],
   "id": "c63227853e9fa244",
   "outputs": [],
   "execution_count": 6
  },
  {
   "metadata": {
    "ExecuteTime": {
     "end_time": "2025-03-11T20:07:04.894739Z",
     "start_time": "2025-03-11T20:07:04.890942Z"
    }
   },
   "cell_type": "code",
   "source": [
    "data.loc[0].code = new_function\n",
    "data.loc[0].code"
   ],
   "id": "a0d73f17f94e0dc6",
   "outputs": [
    {
     "data": {
      "text/plain": [
       "'def export_fits(dataset, path, column_names=None, shuffle=False, selection=False, progress=None, virtual=True, sort=None, ascending=True):\\n    dataset.dtype = \"dtype\"\\n    dtype = \"other_dtype\"\\n    hello = dataset.dtype\\n    null_values = {key: dataset.columns[key].fill_value for key in dataset.get_column_names() if check and dataset.dtype(key).kind != \"f\"}\\n    lst = []\\n    lst_check = [print(entry) for entry in lst if check and dataset.dtype(entry).kind != \"f\"]'"
      ]
     },
     "execution_count": 7,
     "metadata": {},
     "output_type": "execute_result"
    }
   ],
   "execution_count": 7
  },
  {
   "cell_type": "code",
   "id": "fb73a23a-0fd0-4664-8a08-78615f86c567",
   "metadata": {
    "ExecuteTime": {
     "end_time": "2025-03-11T20:08:17.715166Z",
     "start_time": "2025-03-11T20:07:07.728121Z"
    }
   },
   "source": [
    "parser = Parser()\n",
    "parser.add_structure(data)\n",
    "data"
   ],
   "outputs": [
    {
     "name": "stderr",
     "output_type": "stream",
     "text": [
      "1it [01:09, 69.28s/it]"
     ]
    },
    {
     "ename": "KeyboardInterrupt",
     "evalue": "",
     "output_type": "error",
     "traceback": [
      "\u001B[31m---------------------------------------------------------------------------\u001B[39m",
      "\u001B[31mKeyboardInterrupt\u001B[39m                         Traceback (most recent call last)",
      "\u001B[36mCell\u001B[39m\u001B[36m \u001B[39m\u001B[32mIn[8]\u001B[39m\u001B[32m, line 2\u001B[39m\n\u001B[32m      1\u001B[39m parser = Parser()\n\u001B[32m----> \u001B[39m\u001B[32m2\u001B[39m \u001B[43mparser\u001B[49m\u001B[43m.\u001B[49m\u001B[43madd_structure\u001B[49m\u001B[43m(\u001B[49m\u001B[43mdata\u001B[49m\u001B[43m)\u001B[49m\n\u001B[32m      3\u001B[39m data\n",
      "\u001B[36mFile \u001B[39m\u001B[32m~/Documents/SAP/Masterthesis/Code/master-thesis/preprocessing/parser.py:79\u001B[39m, in \u001B[36mParser.add_structure\u001B[39m\u001B[34m(self, data)\u001B[39m\n\u001B[32m     77\u001B[39m \u001B[38;5;28;01mdef\u001B[39;00m\u001B[38;5;250m \u001B[39m\u001B[34madd_structure\u001B[39m(\u001B[38;5;28mself\u001B[39m, data):\n\u001B[32m     78\u001B[39m \tast_leaf_tokens, ast_leaves, ast_leaf_ranges, dfg_edges = [], [], [], []\n\u001B[32m---> \u001B[39m\u001B[32m79\u001B[39m \u001B[43m\t\u001B[49m\u001B[38;5;28;43;01mfor\u001B[39;49;00m\u001B[43m \u001B[49m\u001B[43mrow\u001B[49m\u001B[43m \u001B[49m\u001B[38;5;129;43;01min\u001B[39;49;00m\u001B[43m \u001B[49m\u001B[43mtqdm\u001B[49m\u001B[43m(\u001B[49m\u001B[43mdata\u001B[49m\u001B[43m.\u001B[49m\u001B[43mitertuples\u001B[49m\u001B[43m(\u001B[49m\u001B[43m)\u001B[49m\u001B[43m)\u001B[49m\u001B[43m:\u001B[49m\n\u001B[32m     80\u001B[39m \u001B[43m\t\t\u001B[49m\u001B[43mcurr_code_tokens\u001B[49m\u001B[43m,\u001B[49m\u001B[43m \u001B[49m\u001B[43mcurr_ast_leaves\u001B[49m\u001B[43m,\u001B[49m\u001B[43m \u001B[49m\u001B[43mcurr_dfg_edges\u001B[49m\u001B[43m \u001B[49m\u001B[43m=\u001B[49m\u001B[43m \u001B[49m\u001B[38;5;28;43mself\u001B[39;49m\u001B[43m.\u001B[49m\u001B[43mextract_structure\u001B[49m\u001B[43m(\u001B[49m\u001B[43mrow\u001B[49m\u001B[43m.\u001B[49m\u001B[43mcode\u001B[49m\u001B[43m)\u001B[49m\n\u001B[32m     81\u001B[39m \u001B[43m\t\t\u001B[49m\u001B[43mast_leaf_tokens\u001B[49m\u001B[43m.\u001B[49m\u001B[43mappend\u001B[49m\u001B[43m(\u001B[49m\u001B[43mcurr_code_tokens\u001B[49m\u001B[43m)\u001B[49m\n",
      "\u001B[36mFile \u001B[39m\u001B[32m~/Documents/SAP/Masterthesis/Code/master-thesis/venv/lib/python3.11/site-packages/tqdm/std.py:1196\u001B[39m, in \u001B[36mtqdm.__iter__\u001B[39m\u001B[34m(self)\u001B[39m\n\u001B[32m   1194\u001B[39m \u001B[38;5;28;01mfinally\u001B[39;00m:\n\u001B[32m   1195\u001B[39m     \u001B[38;5;28mself\u001B[39m.n = n\n\u001B[32m-> \u001B[39m\u001B[32m1196\u001B[39m     \u001B[38;5;28;43mself\u001B[39;49m\u001B[43m.\u001B[49m\u001B[43mclose\u001B[49m\u001B[43m(\u001B[49m\u001B[43m)\u001B[49m\n",
      "\u001B[36mFile \u001B[39m\u001B[32m~/Documents/SAP/Masterthesis/Code/master-thesis/venv/lib/python3.11/site-packages/tqdm/std.py:1302\u001B[39m, in \u001B[36mtqdm.close\u001B[39m\u001B[34m(self)\u001B[39m\n\u001B[32m   1299\u001B[39m \u001B[38;5;28;01mif\u001B[39;00m leave:\n\u001B[32m   1300\u001B[39m     \u001B[38;5;66;03m# stats for overall rate (no weighted average)\u001B[39;00m\n\u001B[32m   1301\u001B[39m     \u001B[38;5;28mself\u001B[39m._ema_dt = \u001B[38;5;28;01mlambda\u001B[39;00m: \u001B[38;5;28;01mNone\u001B[39;00m\n\u001B[32m-> \u001B[39m\u001B[32m1302\u001B[39m     \u001B[38;5;28;43mself\u001B[39;49m\u001B[43m.\u001B[49m\u001B[43mdisplay\u001B[49m\u001B[43m(\u001B[49m\u001B[43mpos\u001B[49m\u001B[43m=\u001B[49m\u001B[32;43m0\u001B[39;49m\u001B[43m)\u001B[49m\n\u001B[32m   1303\u001B[39m     fp_write(\u001B[33m'\u001B[39m\u001B[38;5;130;01m\\n\u001B[39;00m\u001B[33m'\u001B[39m)\n\u001B[32m   1304\u001B[39m \u001B[38;5;28;01melse\u001B[39;00m:\n\u001B[32m   1305\u001B[39m     \u001B[38;5;66;03m# clear previous display\u001B[39;00m\n",
      "\u001B[36mFile \u001B[39m\u001B[32m~/Documents/SAP/Masterthesis/Code/master-thesis/venv/lib/python3.11/site-packages/tqdm/std.py:1495\u001B[39m, in \u001B[36mtqdm.display\u001B[39m\u001B[34m(self, msg, pos)\u001B[39m\n\u001B[32m   1493\u001B[39m \u001B[38;5;28;01mif\u001B[39;00m pos:\n\u001B[32m   1494\u001B[39m     \u001B[38;5;28mself\u001B[39m.moveto(pos)\n\u001B[32m-> \u001B[39m\u001B[32m1495\u001B[39m \u001B[38;5;28;43mself\u001B[39;49m\u001B[43m.\u001B[49m\u001B[43msp\u001B[49m\u001B[43m(\u001B[49m\u001B[38;5;28;43mself\u001B[39;49m\u001B[43m.\u001B[49m\u001B[34;43m__str__\u001B[39;49m\u001B[43m(\u001B[49m\u001B[43m)\u001B[49m\u001B[43m \u001B[49m\u001B[38;5;28;43;01mif\u001B[39;49;00m\u001B[43m \u001B[49m\u001B[43mmsg\u001B[49m\u001B[43m \u001B[49m\u001B[38;5;129;43;01mis\u001B[39;49;00m\u001B[43m \u001B[49m\u001B[38;5;28;43;01mNone\u001B[39;49;00m\u001B[43m \u001B[49m\u001B[38;5;28;43;01melse\u001B[39;49;00m\u001B[43m \u001B[49m\u001B[43mmsg\u001B[49m\u001B[43m)\u001B[49m\n\u001B[32m   1496\u001B[39m \u001B[38;5;28;01mif\u001B[39;00m pos:\n\u001B[32m   1497\u001B[39m     \u001B[38;5;28mself\u001B[39m.moveto(-pos)\n",
      "\u001B[36mFile \u001B[39m\u001B[32m~/Documents/SAP/Masterthesis/Code/master-thesis/venv/lib/python3.11/site-packages/tqdm/std.py:459\u001B[39m, in \u001B[36mtqdm.status_printer.<locals>.print_status\u001B[39m\u001B[34m(s)\u001B[39m\n\u001B[32m    457\u001B[39m \u001B[38;5;28;01mdef\u001B[39;00m\u001B[38;5;250m \u001B[39m\u001B[34mprint_status\u001B[39m(s):\n\u001B[32m    458\u001B[39m     len_s = disp_len(s)\n\u001B[32m--> \u001B[39m\u001B[32m459\u001B[39m     \u001B[43mfp_write\u001B[49m\u001B[43m(\u001B[49m\u001B[33;43m'\u001B[39;49m\u001B[38;5;130;43;01m\\r\u001B[39;49;00m\u001B[33;43m'\u001B[39;49m\u001B[43m \u001B[49m\u001B[43m+\u001B[49m\u001B[43m \u001B[49m\u001B[43ms\u001B[49m\u001B[43m \u001B[49m\u001B[43m+\u001B[49m\u001B[43m \u001B[49m\u001B[43m(\u001B[49m\u001B[33;43m'\u001B[39;49m\u001B[33;43m \u001B[39;49m\u001B[33;43m'\u001B[39;49m\u001B[43m \u001B[49m\u001B[43m*\u001B[49m\u001B[43m \u001B[49m\u001B[38;5;28;43mmax\u001B[39;49m\u001B[43m(\u001B[49m\u001B[43mlast_len\u001B[49m\u001B[43m[\u001B[49m\u001B[32;43m0\u001B[39;49m\u001B[43m]\u001B[49m\u001B[43m \u001B[49m\u001B[43m-\u001B[49m\u001B[43m \u001B[49m\u001B[43mlen_s\u001B[49m\u001B[43m,\u001B[49m\u001B[43m \u001B[49m\u001B[32;43m0\u001B[39;49m\u001B[43m)\u001B[49m\u001B[43m)\u001B[49m\u001B[43m)\u001B[49m\n\u001B[32m    460\u001B[39m     last_len[\u001B[32m0\u001B[39m] = len_s\n",
      "\u001B[36mFile \u001B[39m\u001B[32m~/Documents/SAP/Masterthesis/Code/master-thesis/venv/lib/python3.11/site-packages/tqdm/std.py:453\u001B[39m, in \u001B[36mtqdm.status_printer.<locals>.fp_write\u001B[39m\u001B[34m(s)\u001B[39m\n\u001B[32m    451\u001B[39m \u001B[38;5;28;01mdef\u001B[39;00m\u001B[38;5;250m \u001B[39m\u001B[34mfp_write\u001B[39m(s):\n\u001B[32m    452\u001B[39m     fp.write(\u001B[38;5;28mstr\u001B[39m(s))\n\u001B[32m--> \u001B[39m\u001B[32m453\u001B[39m     \u001B[43mfp_flush\u001B[49m\u001B[43m(\u001B[49m\u001B[43m)\u001B[49m\n",
      "\u001B[36mFile \u001B[39m\u001B[32m~/Documents/SAP/Masterthesis/Code/master-thesis/venv/lib/python3.11/site-packages/tqdm/utils.py:196\u001B[39m, in \u001B[36mDisableOnWriteError.disable_on_exception.<locals>.inner\u001B[39m\u001B[34m(*args, **kwargs)\u001B[39m\n\u001B[32m    194\u001B[39m \u001B[38;5;28;01mdef\u001B[39;00m\u001B[38;5;250m \u001B[39m\u001B[34minner\u001B[39m(*args, **kwargs):\n\u001B[32m    195\u001B[39m     \u001B[38;5;28;01mtry\u001B[39;00m:\n\u001B[32m--> \u001B[39m\u001B[32m196\u001B[39m         \u001B[38;5;28;01mreturn\u001B[39;00m \u001B[43mfunc\u001B[49m\u001B[43m(\u001B[49m\u001B[43m*\u001B[49m\u001B[43margs\u001B[49m\u001B[43m,\u001B[49m\u001B[43m \u001B[49m\u001B[43m*\u001B[49m\u001B[43m*\u001B[49m\u001B[43mkwargs\u001B[49m\u001B[43m)\u001B[49m\n\u001B[32m    197\u001B[39m     \u001B[38;5;28;01mexcept\u001B[39;00m \u001B[38;5;167;01mOSError\u001B[39;00m \u001B[38;5;28;01mas\u001B[39;00m e:\n\u001B[32m    198\u001B[39m         \u001B[38;5;28;01mif\u001B[39;00m e.errno != \u001B[32m5\u001B[39m:\n",
      "\u001B[36mFile \u001B[39m\u001B[32m~/Documents/SAP/Masterthesis/Code/master-thesis/venv/lib/python3.11/site-packages/ipykernel/iostream.py:607\u001B[39m, in \u001B[36mOutStream.flush\u001B[39m\u001B[34m(self)\u001B[39m\n\u001B[32m    605\u001B[39m \u001B[38;5;66;03m# wait for flush to actually get through, if we can.\u001B[39;00m\n\u001B[32m    606\u001B[39m evt = threading.Event()\n\u001B[32m--> \u001B[39m\u001B[32m607\u001B[39m \u001B[38;5;28;43mself\u001B[39;49m\u001B[43m.\u001B[49m\u001B[43mpub_thread\u001B[49m\u001B[43m.\u001B[49m\u001B[43mschedule\u001B[49m\u001B[43m(\u001B[49m\u001B[43mevt\u001B[49m\u001B[43m.\u001B[49m\u001B[43mset\u001B[49m\u001B[43m)\u001B[49m\n\u001B[32m    608\u001B[39m \u001B[38;5;66;03m# and give a timeout to avoid\u001B[39;00m\n\u001B[32m    609\u001B[39m \u001B[38;5;28;01mif\u001B[39;00m \u001B[38;5;129;01mnot\u001B[39;00m evt.wait(\u001B[38;5;28mself\u001B[39m.flush_timeout):\n\u001B[32m    610\u001B[39m     \u001B[38;5;66;03m# write directly to __stderr__ instead of warning because\u001B[39;00m\n\u001B[32m    611\u001B[39m     \u001B[38;5;66;03m# if this is happening sys.stderr may be the problem.\u001B[39;00m\n",
      "\u001B[36mFile \u001B[39m\u001B[32m~/Documents/SAP/Masterthesis/Code/master-thesis/venv/lib/python3.11/site-packages/ipykernel/iostream.py:267\u001B[39m, in \u001B[36mIOPubThread.schedule\u001B[39m\u001B[34m(self, f)\u001B[39m\n\u001B[32m    265\u001B[39m     \u001B[38;5;28mself\u001B[39m._events.append(f)\n\u001B[32m    266\u001B[39m     \u001B[38;5;66;03m# wake event thread (message content is ignored)\u001B[39;00m\n\u001B[32m--> \u001B[39m\u001B[32m267\u001B[39m     \u001B[38;5;28;43mself\u001B[39;49m\u001B[43m.\u001B[49m\u001B[43m_event_pipe\u001B[49m\u001B[43m.\u001B[49m\u001B[43msend\u001B[49m\u001B[43m(\u001B[49m\u001B[33;43mb\u001B[39;49m\u001B[33;43m\"\u001B[39;49m\u001B[33;43m\"\u001B[39;49m\u001B[43m)\u001B[49m\n\u001B[32m    268\u001B[39m \u001B[38;5;28;01melse\u001B[39;00m:\n\u001B[32m    269\u001B[39m     f()\n",
      "\u001B[36mFile \u001B[39m\u001B[32m~/Documents/SAP/Masterthesis/Code/master-thesis/venv/lib/python3.11/site-packages/zmq/sugar/socket.py:707\u001B[39m, in \u001B[36mSocket.send\u001B[39m\u001B[34m(self, data, flags, copy, track, routing_id, group)\u001B[39m\n\u001B[32m    700\u001B[39m         data = zmq.Frame(\n\u001B[32m    701\u001B[39m             data,\n\u001B[32m    702\u001B[39m             track=track,\n\u001B[32m    703\u001B[39m             copy=copy \u001B[38;5;129;01mor\u001B[39;00m \u001B[38;5;28;01mNone\u001B[39;00m,\n\u001B[32m    704\u001B[39m             copy_threshold=\u001B[38;5;28mself\u001B[39m.copy_threshold,\n\u001B[32m    705\u001B[39m         )\n\u001B[32m    706\u001B[39m     data.group = group\n\u001B[32m--> \u001B[39m\u001B[32m707\u001B[39m \u001B[38;5;28;01mreturn\u001B[39;00m \u001B[38;5;28;43msuper\u001B[39;49m\u001B[43m(\u001B[49m\u001B[43m)\u001B[49m\u001B[43m.\u001B[49m\u001B[43msend\u001B[49m\u001B[43m(\u001B[49m\u001B[43mdata\u001B[49m\u001B[43m,\u001B[49m\u001B[43m \u001B[49m\u001B[43mflags\u001B[49m\u001B[43m=\u001B[49m\u001B[43mflags\u001B[49m\u001B[43m,\u001B[49m\u001B[43m \u001B[49m\u001B[43mcopy\u001B[49m\u001B[43m=\u001B[49m\u001B[43mcopy\u001B[49m\u001B[43m,\u001B[49m\u001B[43m \u001B[49m\u001B[43mtrack\u001B[49m\u001B[43m=\u001B[49m\u001B[43mtrack\u001B[49m\u001B[43m)\u001B[49m\n",
      "\u001B[36mFile \u001B[39m\u001B[32m_zmq.py:1092\u001B[39m, in \u001B[36mzmq.backend.cython._zmq.Socket.send\u001B[39m\u001B[34m()\u001B[39m\n",
      "\u001B[36mFile \u001B[39m\u001B[32m_zmq.py:1140\u001B[39m, in \u001B[36mzmq.backend.cython._zmq.Socket.send\u001B[39m\u001B[34m()\u001B[39m\n",
      "\u001B[36mFile \u001B[39m\u001B[32m_zmq.py:1339\u001B[39m, in \u001B[36mzmq.backend.cython._zmq._send_copy\u001B[39m\u001B[34m()\u001B[39m\n",
      "\u001B[36mFile \u001B[39m\u001B[32m_zmq.py:160\u001B[39m, in \u001B[36mzmq.backend.cython._zmq._check_rc\u001B[39m\u001B[34m()\u001B[39m\n",
      "\u001B[31mKeyboardInterrupt\u001B[39m: "
     ]
    }
   ],
   "execution_count": 8
  },
  {
   "cell_type": "code",
   "execution_count": 8,
   "id": "d5500956-9a71-4c4d-bb08-7395bd576186",
   "metadata": {},
   "outputs": [
    {
     "name": "stderr",
     "output_type": "stream",
     "text": [
      "100%|████████████████████████████████████████████████████████████████████████████████████████████████████████████████████████████████████████████| 1/1 [00:00<00:00, 366.03it/s]\n",
      "100%|███████████████████████████████████████████████████████████████████████████████████████████████████████████████████████████████████████████| 1/1 [00:00<00:00, 6288.31it/s]\n"
     ]
    },
    {
     "data": {
      "text/html": [
       "<div>\n",
       "<style scoped>\n",
       "    .dataframe tbody tr th:only-of-type {\n",
       "        vertical-align: middle;\n",
       "    }\n",
       "\n",
       "    .dataframe tbody tr th {\n",
       "        vertical-align: top;\n",
       "    }\n",
       "\n",
       "    .dataframe thead th {\n",
       "        text-align: right;\n",
       "    }\n",
       "</style>\n",
       "<table border=\"1\" class=\"dataframe\">\n",
       "  <thead>\n",
       "    <tr style=\"text-align: right;\">\n",
       "      <th></th>\n",
       "      <th>text</th>\n",
       "      <th>code</th>\n",
       "      <th>ast_leaves</th>\n",
       "      <th>dfg_edges</th>\n",
       "      <th>ast_leaf_tokens</th>\n",
       "      <th>ast_leaf_ranges</th>\n",
       "      <th>code_tokens</th>\n",
       "      <th>text_tokens</th>\n",
       "    </tr>\n",
       "  </thead>\n",
       "  <tbody>\n",
       "    <tr>\n",
       "      <th>0</th>\n",
       "      <td>Reset task execution to `DELAY` seconds from now.</td>\n",
       "      <td>def reset(self) -&gt; None:\\n        Log.debug('r...</td>\n",
       "      <td>[(\"def\"), (identifier), (\"(\"), (identifier), (...</td>\n",
       "      <td>[(14, [18, 20, 24, 26]), (16, [18, 20, 24, 26]...</td>\n",
       "      <td>[def, reset, (, self, ), -&gt;, None, :, Log, ., ...</td>\n",
       "      <td>[(0, 3), (4, 9), (9, 10), (10, 14), (14, 15), ...</td>\n",
       "      <td>[610, 5672, 45, 803, 46, 984, 1686, 63, 310, 2...</td>\n",
       "      <td>[7334, 2918, 6111, 391, 548, 21382, 101, 6810,...</td>\n",
       "    </tr>\n",
       "  </tbody>\n",
       "</table>\n",
       "</div>"
      ],
      "text/plain": [
       "                                                text  \\\n",
       "0  Reset task execution to `DELAY` seconds from now.   \n",
       "\n",
       "                                                code  \\\n",
       "0  def reset(self) -> None:\\n        Log.debug('r...   \n",
       "\n",
       "                                          ast_leaves  \\\n",
       "0  [(\"def\"), (identifier), (\"(\"), (identifier), (...   \n",
       "\n",
       "                                           dfg_edges  \\\n",
       "0  [(14, [18, 20, 24, 26]), (16, [18, 20, 24, 26]...   \n",
       "\n",
       "                                     ast_leaf_tokens  \\\n",
       "0  [def, reset, (, self, ), ->, None, :, Log, ., ...   \n",
       "\n",
       "                                     ast_leaf_ranges  \\\n",
       "0  [(0, 3), (4, 9), (9, 10), (10, 14), (14, 15), ...   \n",
       "\n",
       "                                         code_tokens  \\\n",
       "0  [610, 5672, 45, 803, 46, 984, 1686, 63, 310, 2...   \n",
       "\n",
       "                                         text_tokens  \n",
       "0  [7334, 2918, 6111, 391, 548, 21382, 101, 6810,...  "
      ]
     },
     "execution_count": 8,
     "metadata": {},
     "output_type": "execute_result"
    }
   ],
   "source": [
    "data['code_tokens'] = parser.tokenize_codes_texts(list(data['code']))\n",
    "data['text_tokens'] = parser.tokenize_codes_texts(list(data['text']))\n",
    "data"
   ]
  },
  {
   "cell_type": "code",
   "execution_count": 9,
   "id": "2f24964b-d81d-411f-ab75-39be2f17a72c",
   "metadata": {},
   "outputs": [
    {
     "name": "stderr",
     "output_type": "stream",
     "text": [
      "1it [00:00, 4788.02it/s]\n"
     ]
    },
    {
     "data": {
      "text/html": [
       "<div>\n",
       "<style scoped>\n",
       "    .dataframe tbody tr th:only-of-type {\n",
       "        vertical-align: middle;\n",
       "    }\n",
       "\n",
       "    .dataframe tbody tr th {\n",
       "        vertical-align: top;\n",
       "    }\n",
       "\n",
       "    .dataframe thead th {\n",
       "        text-align: right;\n",
       "    }\n",
       "</style>\n",
       "<table border=\"1\" class=\"dataframe\">\n",
       "  <thead>\n",
       "    <tr style=\"text-align: right;\">\n",
       "      <th></th>\n",
       "      <th>text</th>\n",
       "      <th>code</th>\n",
       "      <th>ast_leaves</th>\n",
       "      <th>dfg_edges</th>\n",
       "      <th>ast_leaf_tokens</th>\n",
       "      <th>ast_leaf_ranges</th>\n",
       "      <th>code_tokens</th>\n",
       "      <th>text_tokens</th>\n",
       "      <th>code_tokens_ranges</th>\n",
       "    </tr>\n",
       "  </thead>\n",
       "  <tbody>\n",
       "    <tr>\n",
       "      <th>0</th>\n",
       "      <td>Reset task execution to `DELAY` seconds from now.</td>\n",
       "      <td>def reset(self) -&gt; None:\\n        Log.debug('r...</td>\n",
       "      <td>[(\"def\"), (identifier), (\"(\"), (identifier), (...</td>\n",
       "      <td>[(14, [18, 20, 24, 26]), (16, [18, 20, 24, 26]...</td>\n",
       "      <td>[def, reset, (, self, ), -&gt;, None, :, Log, ., ...</td>\n",
       "      <td>[(0, 3), (4, 9), (9, 10), (10, 14), (14, 15), ...</td>\n",
       "      <td>[610, 5672, 45, 803, 46, 984, 1686, 63, 310, 2...</td>\n",
       "      <td>[7334, 2918, 6111, 391, 548, 21382, 101, 6810,...</td>\n",
       "      <td>[(0, 3), (3, 9), (9, 10), (10, 14), (14, 15), ...</td>\n",
       "    </tr>\n",
       "  </tbody>\n",
       "</table>\n",
       "</div>"
      ],
      "text/plain": [
       "                                                text  \\\n",
       "0  Reset task execution to `DELAY` seconds from now.   \n",
       "\n",
       "                                                code  \\\n",
       "0  def reset(self) -> None:\\n        Log.debug('r...   \n",
       "\n",
       "                                          ast_leaves  \\\n",
       "0  [(\"def\"), (identifier), (\"(\"), (identifier), (...   \n",
       "\n",
       "                                           dfg_edges  \\\n",
       "0  [(14, [18, 20, 24, 26]), (16, [18, 20, 24, 26]...   \n",
       "\n",
       "                                     ast_leaf_tokens  \\\n",
       "0  [def, reset, (, self, ), ->, None, :, Log, ., ...   \n",
       "\n",
       "                                     ast_leaf_ranges  \\\n",
       "0  [(0, 3), (4, 9), (9, 10), (10, 14), (14, 15), ...   \n",
       "\n",
       "                                         code_tokens  \\\n",
       "0  [610, 5672, 45, 803, 46, 984, 1686, 63, 310, 2...   \n",
       "\n",
       "                                         text_tokens  \\\n",
       "0  [7334, 2918, 6111, 391, 548, 21382, 101, 6810,...   \n",
       "\n",
       "                                  code_tokens_ranges  \n",
       "0  [(0, 3), (3, 9), (9, 10), (10, 14), (14, 15), ...  "
      ]
     },
     "execution_count": 9,
     "metadata": {},
     "output_type": "execute_result"
    }
   ],
   "source": [
    "parser.add_code_tokens_ranges(data)\n",
    "data"
   ]
  },
  {
   "cell_type": "code",
   "execution_count": 10,
   "id": "decc9c19-65d7-4b86-9b0c-d5a287f8fed9",
   "metadata": {},
   "outputs": [
    {
     "name": "stderr",
     "output_type": "stream",
     "text": [
      "1it [00:00, 17848.10it/s]\n"
     ]
    }
   ],
   "source": [
    "parser.map_ast_leaf_code_token_indices(data)"
   ]
  },
  {
   "cell_type": "code",
   "execution_count": 11,
   "id": "5e405b96-28d0-4b49-88cc-3a774d422934",
   "metadata": {},
   "outputs": [
    {
     "data": {
      "text/html": [
       "<div>\n",
       "<style scoped>\n",
       "    .dataframe tbody tr th:only-of-type {\n",
       "        vertical-align: middle;\n",
       "    }\n",
       "\n",
       "    .dataframe tbody tr th {\n",
       "        vertical-align: top;\n",
       "    }\n",
       "\n",
       "    .dataframe thead th {\n",
       "        text-align: right;\n",
       "    }\n",
       "</style>\n",
       "<table border=\"1\" class=\"dataframe\">\n",
       "  <thead>\n",
       "    <tr style=\"text-align: right;\">\n",
       "      <th></th>\n",
       "      <th>text</th>\n",
       "      <th>code</th>\n",
       "      <th>ast_leaves</th>\n",
       "      <th>dfg_edges</th>\n",
       "      <th>ast_leaf_tokens</th>\n",
       "      <th>ast_leaf_ranges</th>\n",
       "      <th>code_tokens</th>\n",
       "      <th>text_tokens</th>\n",
       "      <th>code_tokens_ranges</th>\n",
       "      <th>ast_leaf_code_token_idxs</th>\n",
       "    </tr>\n",
       "  </thead>\n",
       "  <tbody>\n",
       "    <tr>\n",
       "      <th>0</th>\n",
       "      <td>Reset task execution to `DELAY` seconds from now.</td>\n",
       "      <td>def reset(self) -&gt; None:\\n        Log.debug('r...</td>\n",
       "      <td>[(\"def\"), (identifier), (\"(\"), (identifier), (...</td>\n",
       "      <td>[(14, [18, 20, 24, 26]), (16, [18, 20, 24, 26]...</td>\n",
       "      <td>[def, reset, (, self, ), -&gt;, None, :, Log, ., ...</td>\n",
       "      <td>[(0, 3), (4, 9), (9, 10), (10, 14), (14, 15), ...</td>\n",
       "      <td>[610, 5672, 45, 803, 46, 984, 1686, 63, 310, 2...</td>\n",
       "      <td>[7334, 2918, 6111, 391, 548, 21382, 101, 6810,...</td>\n",
       "      <td>[(0, 3), (3, 9), (9, 10), (10, 14), (14, 15), ...</td>\n",
       "      <td>[[0], [1], [2], [3], [4], [5], [6], [7], [9], ...</td>\n",
       "    </tr>\n",
       "  </tbody>\n",
       "</table>\n",
       "</div>"
      ],
      "text/plain": [
       "                                                text  \\\n",
       "0  Reset task execution to `DELAY` seconds from now.   \n",
       "\n",
       "                                                code  \\\n",
       "0  def reset(self) -> None:\\n        Log.debug('r...   \n",
       "\n",
       "                                          ast_leaves  \\\n",
       "0  [(\"def\"), (identifier), (\"(\"), (identifier), (...   \n",
       "\n",
       "                                           dfg_edges  \\\n",
       "0  [(14, [18, 20, 24, 26]), (16, [18, 20, 24, 26]...   \n",
       "\n",
       "                                     ast_leaf_tokens  \\\n",
       "0  [def, reset, (, self, ), ->, None, :, Log, ., ...   \n",
       "\n",
       "                                     ast_leaf_ranges  \\\n",
       "0  [(0, 3), (4, 9), (9, 10), (10, 14), (14, 15), ...   \n",
       "\n",
       "                                         code_tokens  \\\n",
       "0  [610, 5672, 45, 803, 46, 984, 1686, 63, 310, 2...   \n",
       "\n",
       "                                         text_tokens  \\\n",
       "0  [7334, 2918, 6111, 391, 548, 21382, 101, 6810,...   \n",
       "\n",
       "                                  code_tokens_ranges  \\\n",
       "0  [(0, 3), (3, 9), (9, 10), (10, 14), (14, 15), ...   \n",
       "\n",
       "                            ast_leaf_code_token_idxs  \n",
       "0  [[0], [1], [2], [3], [4], [5], [6], [7], [9], ...  "
      ]
     },
     "execution_count": 11,
     "metadata": {},
     "output_type": "execute_result"
    }
   ],
   "source": [
    "data"
   ]
  },
  {
   "cell_type": "code",
   "execution_count": 12,
   "id": "61ce4ae2-d1be-4c47-8ff6-54b86480d202",
   "metadata": {},
   "outputs": [
    {
     "name": "stderr",
     "output_type": "stream",
     "text": [
      "100%|███████████████████████████████████████████████████████████████████████████████████████████████████████████████████████████████████████████| 1/1 [00:00<00:00, 5622.39it/s]\n",
      "100%|███████████████████████████████████████████████████████████████████████████████████████████████████████████████████████████████████████████| 1/1 [00:00<00:00, 9892.23it/s]\n"
     ]
    },
    {
     "data": {
      "text/html": [
       "<div>\n",
       "<style scoped>\n",
       "    .dataframe tbody tr th:only-of-type {\n",
       "        vertical-align: middle;\n",
       "    }\n",
       "\n",
       "    .dataframe tbody tr th {\n",
       "        vertical-align: top;\n",
       "    }\n",
       "\n",
       "    .dataframe thead th {\n",
       "        text-align: right;\n",
       "    }\n",
       "</style>\n",
       "<table border=\"1\" class=\"dataframe\">\n",
       "  <thead>\n",
       "    <tr style=\"text-align: right;\">\n",
       "      <th></th>\n",
       "      <th>text</th>\n",
       "      <th>code</th>\n",
       "      <th>ast_leaves</th>\n",
       "      <th>dfg_edges</th>\n",
       "      <th>code_tokens</th>\n",
       "      <th>text_tokens</th>\n",
       "      <th>ast_leaf_code_token_idxs</th>\n",
       "    </tr>\n",
       "  </thead>\n",
       "  <tbody>\n",
       "    <tr>\n",
       "      <th>0</th>\n",
       "      <td>Reset task execution to `DELAY` seconds from now.</td>\n",
       "      <td>def reset(self) -&gt; None:\\n        Log.debug('r...</td>\n",
       "      <td>[(\"def\"), (identifier), (\"(\"), (identifier), (...</td>\n",
       "      <td>[(14, [18, 20, 24, 26]), (16, [18, 20, 24, 26]...</td>\n",
       "      <td>610,5672,45,803,46,984,1686,63,310,2681,51,282...</td>\n",
       "      <td>7334,2918,6111,391,548,21382,101,6810,664,2483,51</td>\n",
       "      <td>[[0], [1], [2], [3], [4], [5], [6], [7], [9], ...</td>\n",
       "    </tr>\n",
       "  </tbody>\n",
       "</table>\n",
       "</div>"
      ],
      "text/plain": [
       "                                                text  \\\n",
       "0  Reset task execution to `DELAY` seconds from now.   \n",
       "\n",
       "                                                code  \\\n",
       "0  def reset(self) -> None:\\n        Log.debug('r...   \n",
       "\n",
       "                                          ast_leaves  \\\n",
       "0  [(\"def\"), (identifier), (\"(\"), (identifier), (...   \n",
       "\n",
       "                                           dfg_edges  \\\n",
       "0  [(14, [18, 20, 24, 26]), (16, [18, 20, 24, 26]...   \n",
       "\n",
       "                                         code_tokens  \\\n",
       "0  610,5672,45,803,46,984,1686,63,310,2681,51,282...   \n",
       "\n",
       "                                         text_tokens  \\\n",
       "0  7334,2918,6111,391,548,21382,101,6810,664,2483,51   \n",
       "\n",
       "                            ast_leaf_code_token_idxs  \n",
       "0  [[0], [1], [2], [3], [4], [5], [6], [7], [9], ...  "
      ]
     },
     "execution_count": 12,
     "metadata": {},
     "output_type": "execute_result"
    }
   ],
   "source": [
    "data = data_handler.convert_tokens_to_strings(data)\n",
    "data"
   ]
  },
  {
   "cell_type": "code",
   "execution_count": 13,
   "id": "98bd117a-9672-4ea9-91df-11cb6a9d4e5b",
   "metadata": {},
   "outputs": [
    {
     "name": "stderr",
     "output_type": "stream",
     "text": [
      "1it [00:00, 1364.45it/s]\n",
      "1it [00:00, 16070.13it/s]\n"
     ]
    }
   ],
   "source": [
    "num_rows_per_file = 100000\n",
    "\n",
    "all_node_types = data_handler.store_preprocessed_data(data, num_rows_per_file=10000)"
   ]
  },
  {
   "cell_type": "code",
   "execution_count": 14,
   "id": "7fbf1899-3124-4b42-a88f-195844c75b85",
   "metadata": {},
   "outputs": [
    {
     "data": {
      "text/html": [
       "<div>\n",
       "<style scoped>\n",
       "    .dataframe tbody tr th:only-of-type {\n",
       "        vertical-align: middle;\n",
       "    }\n",
       "\n",
       "    .dataframe tbody tr th {\n",
       "        vertical-align: top;\n",
       "    }\n",
       "\n",
       "    .dataframe thead th {\n",
       "        text-align: right;\n",
       "    }\n",
       "</style>\n",
       "<table border=\"1\" class=\"dataframe\">\n",
       "  <thead>\n",
       "    <tr style=\"text-align: right;\">\n",
       "      <th></th>\n",
       "      <th>text</th>\n",
       "      <th>code</th>\n",
       "      <th>ast_leaves</th>\n",
       "      <th>dfg_edges</th>\n",
       "      <th>code_tokens</th>\n",
       "      <th>text_tokens</th>\n",
       "      <th>ast_leaf_code_token_idxs</th>\n",
       "    </tr>\n",
       "  </thead>\n",
       "  <tbody>\n",
       "    <tr>\n",
       "      <th>0</th>\n",
       "      <td>Reset task execution to `DELAY` seconds from now.</td>\n",
       "      <td>def reset(self) -&gt; None:\\n        Log.debug('r...</td>\n",
       "      <td>[(\"def\"), (identifier), (\"(\"), (identifier), (...</td>\n",
       "      <td>[(14, [18, 20, 24, 26]), (16, [18, 20, 24, 26]...</td>\n",
       "      <td>610,5672,45,803,46,984,1686,63,310,2681,51,282...</td>\n",
       "      <td>7334,2918,6111,391,548,21382,101,6810,664,2483,51</td>\n",
       "      <td>[[0], [1], [2], [3], [4], [5], [6], [7], [9], ...</td>\n",
       "    </tr>\n",
       "  </tbody>\n",
       "</table>\n",
       "</div>"
      ],
      "text/plain": [
       "                                                text  \\\n",
       "0  Reset task execution to `DELAY` seconds from now.   \n",
       "\n",
       "                                                code  \\\n",
       "0  def reset(self) -> None:\\n        Log.debug('r...   \n",
       "\n",
       "                                          ast_leaves  \\\n",
       "0  [(\"def\"), (identifier), (\"(\"), (identifier), (...   \n",
       "\n",
       "                                           dfg_edges  \\\n",
       "0  [(14, [18, 20, 24, 26]), (16, [18, 20, 24, 26]...   \n",
       "\n",
       "                                         code_tokens  \\\n",
       "0  610,5672,45,803,46,984,1686,63,310,2681,51,282...   \n",
       "\n",
       "                                         text_tokens  \\\n",
       "0  7334,2918,6111,391,548,21382,101,6810,664,2483,51   \n",
       "\n",
       "                            ast_leaf_code_token_idxs  \n",
       "0  [[0], [1], [2], [3], [4], [5], [6], [7], [9], ...  "
      ]
     },
     "execution_count": 14,
     "metadata": {},
     "output_type": "execute_result"
    }
   ],
   "source": [
    "data"
   ]
  },
  {
   "cell_type": "code",
   "execution_count": 15,
   "id": "940124fd-0d0d-4f9c-a690-a22c53420848",
   "metadata": {},
   "outputs": [
    {
     "name": "stderr",
     "output_type": "stream",
     "text": [
      "100%|████████████████████████████████████████████████████████████████████████████████████████████████████████████████████████████████████████████| 2/2 [00:00<00:00, 237.79it/s]\n"
     ]
    }
   ],
   "source": [
    "data_handler.convert_node_types_to_indices(all_node_types)"
   ]
  },
  {
   "cell_type": "code",
   "execution_count": 16,
   "id": "3109ef2f-3e12-4dff-97c1-dc3950c528fb",
   "metadata": {},
   "outputs": [
    {
     "data": {
      "text/html": [
       "<div>\n",
       "<style scoped>\n",
       "    .dataframe tbody tr th:only-of-type {\n",
       "        vertical-align: middle;\n",
       "    }\n",
       "\n",
       "    .dataframe tbody tr th {\n",
       "        vertical-align: top;\n",
       "    }\n",
       "\n",
       "    .dataframe thead th {\n",
       "        text-align: right;\n",
       "    }\n",
       "</style>\n",
       "<table border=\"1\" class=\"dataframe\">\n",
       "  <thead>\n",
       "    <tr style=\"text-align: right;\">\n",
       "      <th></th>\n",
       "      <th>code_tokens</th>\n",
       "      <th>text_tokens</th>\n",
       "      <th>ast_leaf_code_token_idxs</th>\n",
       "      <th>ll_sims</th>\n",
       "      <th>lr_paths_types</th>\n",
       "      <th>dfg_node_code_token_idxs</th>\n",
       "      <th>dfg_edges</th>\n",
       "    </tr>\n",
       "  </thead>\n",
       "  <tbody>\n",
       "    <tr>\n",
       "      <th>0</th>\n",
       "      <td>610,5672,45,803,46,984,1686,63,310,2681,51,282...</td>\n",
       "      <td>7334,2918,6111,391,548,21382,101,6810,664,2483,51</td>\n",
       "      <td>[[0], [1], [2], [3], [4], [5], [6], [7], [9], ...</td>\n",
       "      <td>1.0,0.4444444444444444,0.3333333333333333,0.33...</td>\n",
       "      <td>[[13, 15, 17], [16, 15, 17], [0, 19, 15, 17], ...</td>\n",
       "      <td>[[3], [21], [23], [25], [27], [30], [32]]</td>\n",
       "      <td>[(1, [3, 4, 5, 6]), (2, [3, 4, 5, 6]), (3, [0]...</td>\n",
       "    </tr>\n",
       "  </tbody>\n",
       "</table>\n",
       "</div>"
      ],
      "text/plain": [
       "                                         code_tokens  \\\n",
       "0  610,5672,45,803,46,984,1686,63,310,2681,51,282...   \n",
       "\n",
       "                                         text_tokens  \\\n",
       "0  7334,2918,6111,391,548,21382,101,6810,664,2483,51   \n",
       "\n",
       "                            ast_leaf_code_token_idxs  \\\n",
       "0  [[0], [1], [2], [3], [4], [5], [6], [7], [9], ...   \n",
       "\n",
       "                                             ll_sims  \\\n",
       "0  1.0,0.4444444444444444,0.3333333333333333,0.33...   \n",
       "\n",
       "                                      lr_paths_types  \\\n",
       "0  [[13, 15, 17], [16, 15, 17], [0, 19, 15, 17], ...   \n",
       "\n",
       "                    dfg_node_code_token_idxs  \\\n",
       "0  [[3], [21], [23], [25], [27], [30], [32]]   \n",
       "\n",
       "                                           dfg_edges  \n",
       "0  [(1, [3, 4, 5, 6]), (2, [3, 4, 5, 6]), (3, [0]...  "
      ]
     },
     "execution_count": 16,
     "metadata": {},
     "output_type": "execute_result"
    }
   ],
   "source": [
    "import pandas as pd\n",
    "\n",
    "df = pd.read_parquet('../data/cont_pretrain/from_0.parquet')\n",
    "df"
   ]
  },
  {
   "cell_type": "code",
   "execution_count": 17,
   "id": "a1c0899b-fe7c-4b4e-b0e1-39605a5af890",
   "metadata": {},
   "outputs": [],
   "source": [
    "import pickle\n",
    "\n",
    "with open('../data/cont_pretrain/all_node_types.pkl', 'rb') as file:\n",
    "    node_types = pickle.load(file)"
   ]
  },
  {
   "cell_type": "code",
   "execution_count": 18,
   "id": "ea5390c5-35d2-4c6f-a047-f7bbe47769fe",
   "metadata": {},
   "outputs": [
    {
     "name": "stderr",
     "output_type": "stream",
     "text": [
      "all_node_types.pkl: 100%|████████████████████████████████████████████████████████████████████████████████████████████████████████████████████████| 2/2 [00:00<00:00, 383.16it/s]\n"
     ]
    }
   ],
   "source": [
    "data_handler.reduce_ll_sims()"
   ]
  },
  {
   "cell_type": "code",
   "execution_count": 19,
   "id": "bffe3afd-13b1-466b-8389-8e2cbb1df891",
   "metadata": {},
   "outputs": [],
   "source": [
    "data_reduced = pd.read_parquet('../data/cont_pretrain/from_0.parquet')"
   ]
  },
  {
   "cell_type": "code",
   "execution_count": 20,
   "id": "05772bd7-78f1-4208-bf17-6da0da669165",
   "metadata": {},
   "outputs": [
    {
     "name": "stderr",
     "output_type": "stream",
     "text": [
      "100%|███████████████████████████████████████████████████████████████████████████████████████████████████████████████████████████████████████████| 2/2 [00:00<00:00, 1512.82it/s]\n"
     ]
    }
   ],
   "source": [
    "data = data_handler.get_concat_stored_data()"
   ]
  },
  {
   "cell_type": "code",
   "execution_count": 21,
   "id": "29fde578-1aae-48dc-8214-f3e51bd9cc8b",
   "metadata": {},
   "outputs": [
    {
     "data": {
      "text/html": [
       "<div>\n",
       "<style scoped>\n",
       "    .dataframe tbody tr th:only-of-type {\n",
       "        vertical-align: middle;\n",
       "    }\n",
       "\n",
       "    .dataframe tbody tr th {\n",
       "        vertical-align: top;\n",
       "    }\n",
       "\n",
       "    .dataframe thead th {\n",
       "        text-align: right;\n",
       "    }\n",
       "</style>\n",
       "<table border=\"1\" class=\"dataframe\">\n",
       "  <thead>\n",
       "    <tr style=\"text-align: right;\">\n",
       "      <th></th>\n",
       "      <th>code_tokens</th>\n",
       "      <th>text_tokens</th>\n",
       "      <th>ast_leaf_code_token_idxs</th>\n",
       "      <th>ll_sims</th>\n",
       "      <th>lr_paths_types</th>\n",
       "      <th>dfg_node_code_token_idxs</th>\n",
       "      <th>dfg_edges</th>\n",
       "    </tr>\n",
       "  </thead>\n",
       "  <tbody>\n",
       "    <tr>\n",
       "      <th>0</th>\n",
       "      <td>610,5672,45,803,46,984,1686,63,310,2681,51,282...</td>\n",
       "      <td>7334,2918,6111,391,548,21382,101,6810,664,2483,51</td>\n",
       "      <td>[[0], [1], [2], [3], [4], [5], [6], [7], [9], ...</td>\n",
       "      <td>0.4444444444444444,0.3333333333333333,0.333333...</td>\n",
       "      <td>[[13, 15, 17], [16, 15, 17], [0, 19, 15, 17], ...</td>\n",
       "      <td>[[3], [21], [23], [25], [27], [30], [32]]</td>\n",
       "      <td>[(1, [3, 4, 5, 6]), (2, [3, 4, 5, 6]), (3, [0]...</td>\n",
       "    </tr>\n",
       "  </tbody>\n",
       "</table>\n",
       "</div>"
      ],
      "text/plain": [
       "                                         code_tokens  \\\n",
       "0  610,5672,45,803,46,984,1686,63,310,2681,51,282...   \n",
       "\n",
       "                                         text_tokens  \\\n",
       "0  7334,2918,6111,391,548,21382,101,6810,664,2483,51   \n",
       "\n",
       "                            ast_leaf_code_token_idxs  \\\n",
       "0  [[0], [1], [2], [3], [4], [5], [6], [7], [9], ...   \n",
       "\n",
       "                                             ll_sims  \\\n",
       "0  0.4444444444444444,0.3333333333333333,0.333333...   \n",
       "\n",
       "                                      lr_paths_types  \\\n",
       "0  [[13, 15, 17], [16, 15, 17], [0, 19, 15, 17], ...   \n",
       "\n",
       "                    dfg_node_code_token_idxs  \\\n",
       "0  [[3], [21], [23], [25], [27], [30], [32]]   \n",
       "\n",
       "                                           dfg_edges  \n",
       "0  [(1, [3, 4, 5, 6]), (2, [3, 4, 5, 6]), (3, [0]...  "
      ]
     },
     "execution_count": 21,
     "metadata": {},
     "output_type": "execute_result"
    }
   ],
   "source": [
    "data.head()"
   ]
  }
 ],
 "metadata": {
  "kernelspec": {
   "display_name": "master-thesis",
   "language": "python",
   "name": "master-thesis"
  },
  "language_info": {
   "codemirror_mode": {
    "name": "ipython",
    "version": 3
   },
   "file_extension": ".py",
   "mimetype": "text/x-python",
   "name": "python",
   "nbconvert_exporter": "python",
   "pygments_lexer": "ipython3",
   "version": "3.11.8"
  }
 },
 "nbformat": 4,
 "nbformat_minor": 5
}
